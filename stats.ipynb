{
 "cells": [
  {
   "cell_type": "code",
   "execution_count": null,
   "metadata": {
    "cell_id": "c019386614eb4d5e87d88919db49ca1d",
    "deepnote_cell_height": 81,
    "deepnote_cell_type": "code",
    "deepnote_to_be_reexecuted": false,
    "execution_millis": 1,
    "execution_start": 1650240033074,
    "source_hash": "41399487",
    "tags": []
   },
   "outputs": [],
   "source": [
    "# !pip install hyperopt==0.2.7"
   ]
  },
  {
   "cell_type": "code",
   "execution_count": null,
   "metadata": {
    "cell_id": "809829726b8b40e3b1a7da8861f0fcaf",
    "deepnote_cell_height": 746,
    "deepnote_cell_type": "code",
    "deepnote_to_be_reexecuted": false,
    "execution_millis": 68755,
    "execution_start": 1651702457529,
    "source_hash": "9354a832",
    "tags": []
   },
   "outputs": [
    {
     "name": "stdout",
     "output_type": "stream",
     "text": [
      "Collecting chatintents\n",
      "  Downloading chatintents-0.0.1-py3-none-any.whl (9.8 kB)\n",
      "Requirement already satisfied: numpy>=1.19.2 in /shared-libs/python3.9/py/lib/python3.9/site-packages (from chatintents) (1.22.3)\n",
      "Collecting ipywidgets>=7.6.3\n",
      "  Downloading ipywidgets-7.7.0-py2.py3-none-any.whl (123 kB)\n",
      "\u001b[K     |████████████████████████████████| 123 kB 27.1 MB/s \n",
      "\u001b[?25hCollecting umap-learn>=0.5.1\n",
      "  Downloading umap-learn-0.5.3.tar.gz (88 kB)\n",
      "\u001b[K     |████████████████████████████████| 88 kB 18.3 MB/s \n",
      "\u001b[?25hRequirement already satisfied: matplotlib>=3.4.2 in /shared-libs/python3.9/py/lib/python3.9/site-packages (from chatintents) (3.5.1)\n",
      "Collecting hyperopt>=0.2.5\n",
      "  Downloading hyperopt-0.2.7-py2.py3-none-any.whl (1.6 MB)\n",
      "\u001b[K     |████████████████████████████████| 1.6 MB 62.2 MB/s \n",
      "\u001b[?25hRequirement already satisfied: pandas>=1.2.0 in /shared-libs/python3.9/py/lib/python3.9/site-packages (from chatintents) (1.2.5)\n",
      "Collecting hdbscan>=0.8.27\n",
      "  Downloading hdbscan-0.8.28.tar.gz (5.2 MB)\n",
      "\u001b[K     |████████████████████████████████| 5.2 MB 61.3 MB/s \n",
      "\u001b[?25h  Installing build dependencies ... \u001b[?25ldone\n",
      "\u001b[?25h  Getting requirements to build wheel ... \u001b[?25ldone\n",
      "\u001b[?25h    Preparing wheel metadata ... \u001b[?25ldone\n",
      "\u001b[?25hRequirement already satisfied: spacy>=3.1.2 in /shared-libs/python3.9/py/lib/python3.9/site-packages (from chatintents) (3.2.4)\n",
      "Collecting cython>=0.27\n",
      "  Using cached Cython-0.29.28-cp39-cp39-manylinux_2_17_x86_64.manylinux2014_x86_64.manylinux_2_24_x86_64.whl (1.9 MB)\n",
      "Requirement already satisfied: scipy>=1.0 in /shared-libs/python3.9/py/lib/python3.9/site-packages (from hdbscan>=0.8.27->chatintents) (1.8.0)\n",
      "Requirement already satisfied: joblib>=1.0 in /shared-libs/python3.9/py/lib/python3.9/site-packages (from hdbscan>=0.8.27->chatintents) (1.1.0)\n",
      "Requirement already satisfied: scikit-learn>=0.20 in /shared-libs/python3.9/py/lib/python3.9/site-packages (from hdbscan>=0.8.27->chatintents) (1.0.2)\n",
      "Collecting networkx>=2.2\n",
      "  Downloading networkx-2.8-py3-none-any.whl (2.0 MB)\n",
      "\u001b[K     |████████████████████████████████| 2.0 MB 76.8 MB/s \n",
      "\u001b[?25hCollecting cloudpickle\n",
      "  Downloading cloudpickle-2.0.0-py3-none-any.whl (25 kB)\n",
      "Requirement already satisfied: future in /shared-libs/python3.9/py/lib/python3.9/site-packages (from hyperopt>=0.2.5->chatintents) (0.18.2)\n",
      "Collecting py4j\n",
      "  Downloading py4j-0.10.9.5-py2.py3-none-any.whl (199 kB)\n",
      "\u001b[K     |████████████████████████████████| 199 kB 90.3 MB/s \n",
      "\u001b[?25hRequirement already satisfied: six in /shared-libs/python3.9/py-core/lib/python3.9/site-packages (from hyperopt>=0.2.5->chatintents) (1.16.0)\n",
      "Requirement already satisfied: tqdm in /shared-libs/python3.9/py/lib/python3.9/site-packages (from hyperopt>=0.2.5->chatintents) (4.64.0)\n",
      "Requirement already satisfied: ipykernel>=4.5.1 in /shared-libs/python3.9/py-core/lib/python3.9/site-packages (from ipywidgets>=7.6.3->chatintents) (5.5.5)\n",
      "Requirement already satisfied: ipython>=4.0.0 in /shared-libs/python3.9/py-core/lib/python3.9/site-packages (from ipywidgets>=7.6.3->chatintents) (7.32.0)\n",
      "Requirement already satisfied: nbformat>=4.2.0 in /shared-libs/python3.9/py-core/lib/python3.9/site-packages (from ipywidgets>=7.6.3->chatintents) (5.1.3)\n",
      "Requirement already satisfied: traitlets>=4.3.1 in /shared-libs/python3.9/py-core/lib/python3.9/site-packages (from ipywidgets>=7.6.3->chatintents) (4.3.3)\n",
      "Collecting widgetsnbextension~=3.6.0\n",
      "  Downloading widgetsnbextension-3.6.0-py2.py3-none-any.whl (1.6 MB)\n",
      "\u001b[K     |████████████████████████████████| 1.6 MB 91.1 MB/s \n",
      "\u001b[?25hCollecting jupyterlab-widgets>=1.0.0\n",
      "  Downloading jupyterlab_widgets-1.1.0-py3-none-any.whl (245 kB)\n",
      "\u001b[K     |████████████████████████████████| 245 kB 87.9 MB/s \n",
      "\u001b[?25hRequirement already satisfied: ipython-genutils~=0.2.0 in /shared-libs/python3.9/py-core/lib/python3.9/site-packages (from ipywidgets>=7.6.3->chatintents) (0.2.0)\n",
      "Requirement already satisfied: jupyter-client in /shared-libs/python3.9/py-core/lib/python3.9/site-packages (from ipykernel>=4.5.1->ipywidgets>=7.6.3->chatintents) (6.1.12)\n",
      "Requirement already satisfied: tornado>=4.2 in /shared-libs/python3.9/py-core/lib/python3.9/site-packages (from ipykernel>=4.5.1->ipywidgets>=7.6.3->chatintents) (6.1)\n",
      "Requirement already satisfied: pickleshare in /shared-libs/python3.9/py-core/lib/python3.9/site-packages (from ipython>=4.0.0->ipywidgets>=7.6.3->chatintents) (0.7.5)\n",
      "Requirement already satisfied: matplotlib-inline in /shared-libs/python3.9/py-core/lib/python3.9/site-packages (from ipython>=4.0.0->ipywidgets>=7.6.3->chatintents) (0.1.3)\n",
      "Requirement already satisfied: decorator in /shared-libs/python3.9/py-core/lib/python3.9/site-packages (from ipython>=4.0.0->ipywidgets>=7.6.3->chatintents) (5.1.1)\n",
      "Requirement already satisfied: jedi>=0.16 in /shared-libs/python3.9/py-core/lib/python3.9/site-packages (from ipython>=4.0.0->ipywidgets>=7.6.3->chatintents) (0.17.2)\n",
      "Requirement already satisfied: pygments in /shared-libs/python3.9/py-core/lib/python3.9/site-packages (from ipython>=4.0.0->ipywidgets>=7.6.3->chatintents) (2.12.0)\n",
      "Requirement already satisfied: prompt-toolkit!=3.0.0,!=3.0.1,<3.1.0,>=2.0.0 in /shared-libs/python3.9/py-core/lib/python3.9/site-packages (from ipython>=4.0.0->ipywidgets>=7.6.3->chatintents) (3.0.29)\n",
      "Requirement already satisfied: pexpect>4.3 in /shared-libs/python3.9/py-core/lib/python3.9/site-packages (from ipython>=4.0.0->ipywidgets>=7.6.3->chatintents) (4.8.0)\n",
      "Requirement already satisfied: backcall in /shared-libs/python3.9/py-core/lib/python3.9/site-packages (from ipython>=4.0.0->ipywidgets>=7.6.3->chatintents) (0.2.0)\n",
      "Requirement already satisfied: setuptools>=18.5 in /root/venv/lib/python3.9/site-packages (from ipython>=4.0.0->ipywidgets>=7.6.3->chatintents) (57.4.0)\n",
      "Requirement already satisfied: parso<0.8.0,>=0.7.0 in /shared-libs/python3.9/py-core/lib/python3.9/site-packages (from jedi>=0.16->ipython>=4.0.0->ipywidgets>=7.6.3->chatintents) (0.7.1)\n",
      "Requirement already satisfied: fonttools>=4.22.0 in /shared-libs/python3.9/py/lib/python3.9/site-packages (from matplotlib>=3.4.2->chatintents) (4.33.3)\n",
      "Requirement already satisfied: pillow>=6.2.0 in /shared-libs/python3.9/py/lib/python3.9/site-packages (from matplotlib>=3.4.2->chatintents) (9.1.0)\n",
      "Requirement already satisfied: kiwisolver>=1.0.1 in /shared-libs/python3.9/py/lib/python3.9/site-packages (from matplotlib>=3.4.2->chatintents) (1.4.2)\n",
      "Requirement already satisfied: cycler>=0.10 in /shared-libs/python3.9/py/lib/python3.9/site-packages (from matplotlib>=3.4.2->chatintents) (0.11.0)\n",
      "Requirement already satisfied: pyparsing>=2.2.1 in /shared-libs/python3.9/py/lib/python3.9/site-packages (from matplotlib>=3.4.2->chatintents) (3.0.8)\n",
      "Requirement already satisfied: python-dateutil>=2.7 in /shared-libs/python3.9/py-core/lib/python3.9/site-packages (from matplotlib>=3.4.2->chatintents) (2.8.2)\n",
      "Requirement already satisfied: packaging>=20.0 in /shared-libs/python3.9/py/lib/python3.9/site-packages (from matplotlib>=3.4.2->chatintents) (21.3)\n",
      "Requirement already satisfied: jupyter-core in /shared-libs/python3.9/py-core/lib/python3.9/site-packages (from nbformat>=4.2.0->ipywidgets>=7.6.3->chatintents) (4.7.1)\n",
      "Requirement already satisfied: jsonschema!=2.5.0,>=2.4 in /shared-libs/python3.9/py-core/lib/python3.9/site-packages (from nbformat>=4.2.0->ipywidgets>=7.6.3->chatintents) (3.2.0)\n",
      "Requirement already satisfied: pyrsistent>=0.14.0 in /shared-libs/python3.9/py-core/lib/python3.9/site-packages (from jsonschema!=2.5.0,>=2.4->nbformat>=4.2.0->ipywidgets>=7.6.3->chatintents) (0.18.1)\n",
      "Requirement already satisfied: attrs>=17.4.0 in /shared-libs/python3.9/py-core/lib/python3.9/site-packages (from jsonschema!=2.5.0,>=2.4->nbformat>=4.2.0->ipywidgets>=7.6.3->chatintents) (21.4.0)\n",
      "Requirement already satisfied: pytz>=2017.3 in /shared-libs/python3.9/py/lib/python3.9/site-packages (from pandas>=1.2.0->chatintents) (2022.1)\n",
      "Requirement already satisfied: ptyprocess>=0.5 in /shared-libs/python3.9/py-core/lib/python3.9/site-packages (from pexpect>4.3->ipython>=4.0.0->ipywidgets>=7.6.3->chatintents) (0.7.0)\n",
      "Requirement already satisfied: wcwidth in /shared-libs/python3.9/py-core/lib/python3.9/site-packages (from prompt-toolkit!=3.0.0,!=3.0.1,<3.1.0,>=2.0.0->ipython>=4.0.0->ipywidgets>=7.6.3->chatintents) (0.2.5)\n",
      "Requirement already satisfied: threadpoolctl>=2.0.0 in /shared-libs/python3.9/py/lib/python3.9/site-packages (from scikit-learn>=0.20->hdbscan>=0.8.27->chatintents) (3.1.0)\n",
      "Requirement already satisfied: pathy>=0.3.5 in /shared-libs/python3.9/py/lib/python3.9/site-packages (from spacy>=3.1.2->chatintents) (0.6.1)\n",
      "Requirement already satisfied: murmurhash<1.1.0,>=0.28.0 in /shared-libs/python3.9/py/lib/python3.9/site-packages (from spacy>=3.1.2->chatintents) (1.0.7)\n",
      "Requirement already satisfied: requests<3.0.0,>=2.13.0 in /shared-libs/python3.9/py/lib/python3.9/site-packages (from spacy>=3.1.2->chatintents) (2.27.1)\n",
      "Requirement already satisfied: srsly<3.0.0,>=2.4.1 in /shared-libs/python3.9/py/lib/python3.9/site-packages (from spacy>=3.1.2->chatintents) (2.4.3)\n",
      "Requirement already satisfied: blis<0.8.0,>=0.4.0 in /shared-libs/python3.9/py/lib/python3.9/site-packages (from spacy>=3.1.2->chatintents) (0.7.7)\n",
      "Requirement already satisfied: jinja2 in /shared-libs/python3.9/py-core/lib/python3.9/site-packages (from spacy>=3.1.2->chatintents) (2.11.3)\n",
      "Requirement already satisfied: catalogue<2.1.0,>=2.0.6 in /shared-libs/python3.9/py/lib/python3.9/site-packages (from spacy>=3.1.2->chatintents) (2.0.7)\n",
      "Requirement already satisfied: spacy-legacy<3.1.0,>=3.0.8 in /shared-libs/python3.9/py/lib/python3.9/site-packages (from spacy>=3.1.2->chatintents) (3.0.9)\n",
      "Requirement already satisfied: spacy-loggers<2.0.0,>=1.0.0 in /shared-libs/python3.9/py/lib/python3.9/site-packages (from spacy>=3.1.2->chatintents) (1.0.2)\n",
      "Requirement already satisfied: langcodes<4.0.0,>=3.2.0 in /shared-libs/python3.9/py/lib/python3.9/site-packages (from spacy>=3.1.2->chatintents) (3.3.0)\n",
      "Requirement already satisfied: preshed<3.1.0,>=3.0.2 in /shared-libs/python3.9/py/lib/python3.9/site-packages (from spacy>=3.1.2->chatintents) (3.0.6)\n",
      "Requirement already satisfied: thinc<8.1.0,>=8.0.12 in /shared-libs/python3.9/py/lib/python3.9/site-packages (from spacy>=3.1.2->chatintents) (8.0.15)\n",
      "Requirement already satisfied: typer<0.5.0,>=0.3.0 in /shared-libs/python3.9/py/lib/python3.9/site-packages (from spacy>=3.1.2->chatintents) (0.4.1)\n",
      "Requirement already satisfied: click<8.1.0 in /shared-libs/python3.9/py/lib/python3.9/site-packages (from spacy>=3.1.2->chatintents) (8.0.4)\n",
      "Requirement already satisfied: wasabi<1.1.0,>=0.8.1 in /shared-libs/python3.9/py/lib/python3.9/site-packages (from spacy>=3.1.2->chatintents) (0.9.1)\n",
      "Requirement already satisfied: cymem<2.1.0,>=2.0.2 in /shared-libs/python3.9/py/lib/python3.9/site-packages (from spacy>=3.1.2->chatintents) (2.0.6)\n",
      "Requirement already satisfied: pydantic!=1.8,!=1.8.1,<1.9.0,>=1.7.4 in /shared-libs/python3.9/py/lib/python3.9/site-packages (from spacy>=3.1.2->chatintents) (1.8.2)\n",
      "Requirement already satisfied: smart-open<6.0.0,>=5.0.0 in /shared-libs/python3.9/py/lib/python3.9/site-packages (from pathy>=0.3.5->spacy>=3.1.2->chatintents) (5.2.1)\n",
      "Requirement already satisfied: typing-extensions>=3.7.4.3 in /shared-libs/python3.9/py/lib/python3.9/site-packages (from pydantic!=1.8,!=1.8.1,<1.9.0,>=1.7.4->spacy>=3.1.2->chatintents) (4.2.0)\n",
      "Requirement already satisfied: idna<4,>=2.5 in /shared-libs/python3.9/py-core/lib/python3.9/site-packages (from requests<3.0.0,>=2.13.0->spacy>=3.1.2->chatintents) (3.3)\n",
      "Requirement already satisfied: certifi>=2017.4.17 in /shared-libs/python3.9/py/lib/python3.9/site-packages (from requests<3.0.0,>=2.13.0->spacy>=3.1.2->chatintents) (2021.10.8)\n",
      "Requirement already satisfied: urllib3<1.27,>=1.21.1 in /shared-libs/python3.9/py/lib/python3.9/site-packages (from requests<3.0.0,>=2.13.0->spacy>=3.1.2->chatintents) (1.26.9)\n",
      "Requirement already satisfied: charset-normalizer~=2.0.0 in /shared-libs/python3.9/py-core/lib/python3.9/site-packages (from requests<3.0.0,>=2.13.0->spacy>=3.1.2->chatintents) (2.0.12)\n",
      "Collecting numba>=0.49\n",
      "  Downloading numba-0.55.1-1-cp39-cp39-manylinux2014_x86_64.manylinux_2_17_x86_64.whl (3.3 MB)\n",
      "\u001b[K     |████████████████████████████████| 3.3 MB 71.7 MB/s \n",
      "\u001b[?25hCollecting pynndescent>=0.5\n",
      "  Downloading pynndescent-0.5.6.tar.gz (1.1 MB)\n",
      "\u001b[K     |████████████████████████████████| 1.1 MB 63.3 MB/s \n",
      "\u001b[?25hCollecting numpy>=1.19.2\n",
      "  Downloading numpy-1.21.6-cp39-cp39-manylinux_2_12_x86_64.manylinux2010_x86_64.whl (15.7 MB)\n",
      "\u001b[K     |████████████████████████████████| 15.7 MB 87.5 MB/s \n",
      "\u001b[?25hCollecting llvmlite<0.39,>=0.38.0rc1\n",
      "  Downloading llvmlite-0.38.0-cp39-cp39-manylinux_2_17_x86_64.manylinux2014_x86_64.whl (34.5 MB)\n",
      "\u001b[K     |████████████████████████████████| 34.5 MB 75.1 MB/s \n",
      "\u001b[?25hRequirement already satisfied: notebook>=4.4.1 in /shared-libs/python3.9/py-core/lib/python3.9/site-packages (from widgetsnbextension~=3.6.0->ipywidgets>=7.6.3->chatintents) (6.3.0)\n",
      "Requirement already satisfied: pyzmq>=17 in /shared-libs/python3.9/py-core/lib/python3.9/site-packages (from notebook>=4.4.1->widgetsnbextension~=3.6.0->ipywidgets>=7.6.3->chatintents) (22.3.0)\n",
      "Requirement already satisfied: Send2Trash>=1.5.0 in /shared-libs/python3.9/py-core/lib/python3.9/site-packages (from notebook>=4.4.1->widgetsnbextension~=3.6.0->ipywidgets>=7.6.3->chatintents) (1.8.0)\n",
      "Requirement already satisfied: argon2-cffi in /shared-libs/python3.9/py-core/lib/python3.9/site-packages (from notebook>=4.4.1->widgetsnbextension~=3.6.0->ipywidgets>=7.6.3->chatintents) (21.3.0)\n",
      "Requirement already satisfied: nbconvert==6.0.7 in /shared-libs/python3.9/py-core/lib/python3.9/site-packages (from notebook>=4.4.1->widgetsnbextension~=3.6.0->ipywidgets>=7.6.3->chatintents) (6.0.7)\n",
      "Requirement already satisfied: prometheus-client in /shared-libs/python3.9/py-core/lib/python3.9/site-packages (from notebook>=4.4.1->widgetsnbextension~=3.6.0->ipywidgets>=7.6.3->chatintents) (0.14.1)\n",
      "Requirement already satisfied: terminado>=0.8.3 in /shared-libs/python3.9/py-core/lib/python3.9/site-packages (from notebook>=4.4.1->widgetsnbextension~=3.6.0->ipywidgets>=7.6.3->chatintents) (0.13.3)\n",
      "Requirement already satisfied: mistune<2,>=0.8.1 in /shared-libs/python3.9/py-core/lib/python3.9/site-packages (from nbconvert==6.0.7->notebook>=4.4.1->widgetsnbextension~=3.6.0->ipywidgets>=7.6.3->chatintents) (0.8.4)\n",
      "Requirement already satisfied: pandocfilters>=1.4.1 in /shared-libs/python3.9/py-core/lib/python3.9/site-packages (from nbconvert==6.0.7->notebook>=4.4.1->widgetsnbextension~=3.6.0->ipywidgets>=7.6.3->chatintents) (1.5.0)\n",
      "Requirement already satisfied: testpath in /shared-libs/python3.9/py-core/lib/python3.9/site-packages (from nbconvert==6.0.7->notebook>=4.4.1->widgetsnbextension~=3.6.0->ipywidgets>=7.6.3->chatintents) (0.6.0)\n",
      "Requirement already satisfied: nbclient<0.6.0,>=0.5.0 in /shared-libs/python3.9/py-core/lib/python3.9/site-packages (from nbconvert==6.0.7->notebook>=4.4.1->widgetsnbextension~=3.6.0->ipywidgets>=7.6.3->chatintents) (0.5.9)\n",
      "Requirement already satisfied: bleach in /shared-libs/python3.9/py-core/lib/python3.9/site-packages (from nbconvert==6.0.7->notebook>=4.4.1->widgetsnbextension~=3.6.0->ipywidgets>=7.6.3->chatintents) (5.0.0)\n",
      "Requirement already satisfied: defusedxml in /shared-libs/python3.9/py-core/lib/python3.9/site-packages (from nbconvert==6.0.7->notebook>=4.4.1->widgetsnbextension~=3.6.0->ipywidgets>=7.6.3->chatintents) (0.7.1)\n",
      "Requirement already satisfied: jupyterlab-pygments in /shared-libs/python3.9/py-core/lib/python3.9/site-packages (from nbconvert==6.0.7->notebook>=4.4.1->widgetsnbextension~=3.6.0->ipywidgets>=7.6.3->chatintents) (0.2.2)\n",
      "Requirement already satisfied: entrypoints>=0.2.2 in /shared-libs/python3.9/py-core/lib/python3.9/site-packages (from nbconvert==6.0.7->notebook>=4.4.1->widgetsnbextension~=3.6.0->ipywidgets>=7.6.3->chatintents) (0.4)\n",
      "Requirement already satisfied: MarkupSafe>=0.23 in /shared-libs/python3.9/py-core/lib/python3.9/site-packages (from jinja2->spacy>=3.1.2->chatintents) (2.0.1)\n",
      "Requirement already satisfied: nest-asyncio in /shared-libs/python3.9/py-core/lib/python3.9/site-packages (from nbclient<0.6.0,>=0.5.0->nbconvert==6.0.7->notebook>=4.4.1->widgetsnbextension~=3.6.0->ipywidgets>=7.6.3->chatintents) (1.5.5)\n",
      "Requirement already satisfied: argon2-cffi-bindings in /shared-libs/python3.9/py-core/lib/python3.9/site-packages (from argon2-cffi->notebook>=4.4.1->widgetsnbextension~=3.6.0->ipywidgets>=7.6.3->chatintents) (21.2.0)\n",
      "Requirement already satisfied: cffi>=1.0.1 in /shared-libs/python3.9/py-core/lib/python3.9/site-packages (from argon2-cffi-bindings->argon2-cffi->notebook>=4.4.1->widgetsnbextension~=3.6.0->ipywidgets>=7.6.3->chatintents) (1.15.0)\n",
      "Requirement already satisfied: pycparser in /shared-libs/python3.9/py-core/lib/python3.9/site-packages (from cffi>=1.0.1->argon2-cffi-bindings->argon2-cffi->notebook>=4.4.1->widgetsnbextension~=3.6.0->ipywidgets>=7.6.3->chatintents) (2.21)\n",
      "Requirement already satisfied: webencodings in /shared-libs/python3.9/py-core/lib/python3.9/site-packages (from bleach->nbconvert==6.0.7->notebook>=4.4.1->widgetsnbextension~=3.6.0->ipywidgets>=7.6.3->chatintents) (0.5.1)\n",
      "Building wheels for collected packages: hdbscan, umap-learn, pynndescent\n",
      "  Building wheel for hdbscan (PEP 517) ... \u001b[?25ldone\n",
      "\u001b[?25h  Created wheel for hdbscan: filename=hdbscan-0.8.28-cp39-cp39-linux_x86_64.whl size=726189 sha256=610ac11d89e40417958a86425e953ac1a7e205a539682dd97bc18c7164939342\n",
      "  Stored in directory: /root/.cache/pip/wheels/97/2d/1e/d9907e8f806ee949f9effc41004d7f32e862f6f67d9157812d\n",
      "  Building wheel for umap-learn (setup.py) ... \u001b[?25ldone\n",
      "\u001b[?25h  Created wheel for umap-learn: filename=umap_learn-0.5.3-py3-none-any.whl size=82830 sha256=868b9e59e346d01d5e833f0545c58b4a0b9239fb0da5ca94bf578f5bc56ef469\n",
      "  Stored in directory: /root/.cache/pip/wheels/f4/3e/1c/596d0a463d17475af648688443fa4846fef624d1390339e7e9\n",
      "  Building wheel for pynndescent (setup.py) ... \u001b[?25ldone\n",
      "\u001b[?25h  Created wheel for pynndescent: filename=pynndescent-0.5.6-py3-none-any.whl size=53945 sha256=024fcd358d27738007e7eff7d2b80113ba4f7602acf8706f201b06b926dad303\n",
      "  Stored in directory: /root/.cache/pip/wheels/c0/f0/1d/20aa0dcee54ef40c179a4a4f57fad413437864a67757013a99\n",
      "Successfully built hdbscan umap-learn pynndescent\n",
      "Installing collected packages: numpy, llvmlite, numba, widgetsnbextension, pynndescent, py4j, networkx, jupyterlab-widgets, cython, cloudpickle, umap-learn, ipywidgets, hyperopt, hdbscan, chatintents\n",
      "  Attempting uninstall: numpy\n",
      "    Found existing installation: numpy 1.22.3\n",
      "    Not uninstalling numpy at /shared-libs/python3.9/py/lib/python3.9/site-packages, outside environment /root/venv\n",
      "    Can't uninstall 'numpy'. No files were found to uninstall.\n",
      "Successfully installed chatintents-0.0.1 cloudpickle-2.0.0 cython-0.29.28 hdbscan-0.8.28 hyperopt-0.2.7 ipywidgets-7.7.0 jupyterlab-widgets-1.1.0 llvmlite-0.38.0 networkx-2.8 numba-0.55.1 numpy-1.21.6 py4j-0.10.9.5 pynndescent-0.5.6 umap-learn-0.5.3 widgetsnbextension-3.6.0\n",
      "\u001b[33mWARNING: You are using pip version 21.2.3; however, version 22.0.4 is available.\n",
      "You should consider upgrading via the '/root/venv/bin/python -m pip install --upgrade pip' command.\u001b[0m\n"
     ]
    }
   ],
   "source": [
    "!pip install chatintents"
   ]
  },
  {
   "cell_type": "code",
   "execution_count": null,
   "metadata": {
    "cell_id": "412f71cdaeed422695dec7f4e03e7651",
    "deepnote_cell_height": 357,
    "deepnote_cell_type": "code",
    "deepnote_to_be_reexecuted": false,
    "execution_millis": 2972,
    "execution_start": 1651702598108,
    "source_hash": "539767a9",
    "tags": []
   },
   "outputs": [
    {
     "name": "stdout",
     "output_type": "stream",
     "text": [
      "Requirement already satisfied: numpy==1.20 in /root/venv/lib/python3.9/site-packages (1.20.0)\n",
      "\u001b[33mWARNING: You are using pip version 21.2.3; however, version 22.0.4 is available.\n",
      "You should consider upgrading via the '/root/venv/bin/python -m pip install --upgrade pip' command.\u001b[0m\n"
     ]
    }
   ],
   "source": [
    "!pip install numpy==1.20"
   ]
  },
  {
   "cell_type": "code",
   "execution_count": null,
   "metadata": {
    "cell_id": "57a1282a26a84482a396753af56fb25c",
    "deepnote_cell_height": 322,
    "deepnote_cell_type": "code",
    "deepnote_to_be_reexecuted": false,
    "execution_millis": 2784,
    "execution_start": 1651702553988,
    "source_hash": "d5718369",
    "tags": []
   },
   "outputs": [
    {
     "name": "stdout",
     "output_type": "stream",
     "text": [
      "Collecting tensorflow_hub==0.12.0\n",
      "  Downloading tensorflow_hub-0.12.0-py2.py3-none-any.whl (108 kB)\n",
      "\u001b[K     |████████████████████████████████| 108 kB 34.4 MB/s \n",
      "\u001b[?25hRequirement already satisfied: numpy>=1.12.0 in /root/venv/lib/python3.9/site-packages (from tensorflow_hub==0.12.0) (1.20.0)\n",
      "Requirement already satisfied: protobuf>=3.8.0 in /shared-libs/python3.9/py/lib/python3.9/site-packages (from tensorflow_hub==0.12.0) (3.20.1)\n",
      "Installing collected packages: tensorflow-hub\n",
      "Successfully installed tensorflow-hub-0.12.0\n",
      "\u001b[33mWARNING: You are using pip version 21.2.3; however, version 22.0.4 is available.\n",
      "You should consider upgrading via the '/root/venv/bin/python -m pip install --upgrade pip' command.\u001b[0m\n"
     ]
    }
   ],
   "source": [
    "!pip install tensorflow_hub==0.12.0"
   ]
  },
  {
   "cell_type": "code",
   "execution_count": null,
   "metadata": {
    "cell_id": "4f0b970b5d7447a7a08381c328dd4525",
    "deepnote_cell_height": 746,
    "deepnote_cell_type": "code",
    "deepnote_to_be_reexecuted": false,
    "execution_millis": 9302,
    "execution_start": 1651702556777,
    "source_hash": "dd706f56",
    "tags": []
   },
   "outputs": [
    {
     "name": "stdout",
     "output_type": "stream",
     "text": [
      "Collecting sentence_transformers==2.2.0\n",
      "  Downloading sentence-transformers-2.2.0.tar.gz (79 kB)\n",
      "\u001b[K     |████████████████████████████████| 79 kB 14.0 MB/s \n",
      "\u001b[?25hCollecting transformers<5.0.0,>=4.6.0\n",
      "  Downloading transformers-4.18.0-py3-none-any.whl (4.0 MB)\n",
      "\u001b[K     |████████████████████████████████| 4.0 MB 67.0 MB/s \n",
      "\u001b[?25hRequirement already satisfied: tqdm in /shared-libs/python3.9/py/lib/python3.9/site-packages (from sentence_transformers==2.2.0) (4.64.0)\n",
      "Requirement already satisfied: torch>=1.6.0 in /shared-libs/python3.9/py/lib/python3.9/site-packages (from sentence_transformers==2.2.0) (1.11.0)\n",
      "Requirement already satisfied: torchvision in /shared-libs/python3.9/py/lib/python3.9/site-packages (from sentence_transformers==2.2.0) (0.12.0)\n",
      "Requirement already satisfied: numpy in /root/venv/lib/python3.9/site-packages (from sentence_transformers==2.2.0) (1.20.0)\n",
      "Requirement already satisfied: scikit-learn in /shared-libs/python3.9/py/lib/python3.9/site-packages (from sentence_transformers==2.2.0) (1.0.2)\n",
      "Requirement already satisfied: scipy in /shared-libs/python3.9/py/lib/python3.9/site-packages (from sentence_transformers==2.2.0) (1.8.0)\n",
      "Requirement already satisfied: nltk in /shared-libs/python3.9/py/lib/python3.9/site-packages (from sentence_transformers==2.2.0) (3.7)\n",
      "Collecting sentencepiece\n",
      "  Downloading sentencepiece-0.1.96-cp39-cp39-manylinux_2_17_x86_64.manylinux2014_x86_64.whl (1.2 MB)\n",
      "\u001b[K     |████████████████████████████████| 1.2 MB 66.0 MB/s \n",
      "\u001b[?25hCollecting huggingface-hub\n",
      "  Downloading huggingface_hub-0.5.1-py3-none-any.whl (77 kB)\n",
      "\u001b[K     |████████████████████████████████| 77 kB 13.4 MB/s \n",
      "\u001b[?25hRequirement already satisfied: typing-extensions in /shared-libs/python3.9/py/lib/python3.9/site-packages (from torch>=1.6.0->sentence_transformers==2.2.0) (4.2.0)\n",
      "Requirement already satisfied: packaging>=20.0 in /shared-libs/python3.9/py/lib/python3.9/site-packages (from transformers<5.0.0,>=4.6.0->sentence_transformers==2.2.0) (21.3)\n",
      "Requirement already satisfied: regex!=2019.12.17 in /shared-libs/python3.9/py/lib/python3.9/site-packages (from transformers<5.0.0,>=4.6.0->sentence_transformers==2.2.0) (2022.4.24)\n",
      "Requirement already satisfied: requests in /shared-libs/python3.9/py/lib/python3.9/site-packages (from transformers<5.0.0,>=4.6.0->sentence_transformers==2.2.0) (2.27.1)\n",
      "Collecting sacremoses\n",
      "  Downloading sacremoses-0.0.53.tar.gz (880 kB)\n",
      "\u001b[K     |████████████████████████████████| 880 kB 85.2 MB/s \n",
      "\u001b[?25hRequirement already satisfied: pyyaml>=5.1 in /shared-libs/python3.9/py/lib/python3.9/site-packages (from transformers<5.0.0,>=4.6.0->sentence_transformers==2.2.0) (6.0)\n",
      "Requirement already satisfied: filelock in /shared-libs/python3.9/py/lib/python3.9/site-packages (from transformers<5.0.0,>=4.6.0->sentence_transformers==2.2.0) (3.6.0)\n",
      "Collecting tokenizers!=0.11.3,<0.13,>=0.11.1\n",
      "  Downloading tokenizers-0.12.1-cp39-cp39-manylinux_2_12_x86_64.manylinux2010_x86_64.whl (6.6 MB)\n",
      "\u001b[K     |████████████████████████████████| 6.6 MB 66.7 MB/s \n",
      "\u001b[?25hRequirement already satisfied: pyparsing!=3.0.5,>=2.0.2 in /shared-libs/python3.9/py/lib/python3.9/site-packages (from packaging>=20.0->transformers<5.0.0,>=4.6.0->sentence_transformers==2.2.0) (3.0.8)\n",
      "Requirement already satisfied: joblib in /shared-libs/python3.9/py/lib/python3.9/site-packages (from nltk->sentence_transformers==2.2.0) (1.1.0)\n",
      "Requirement already satisfied: click in /shared-libs/python3.9/py/lib/python3.9/site-packages (from nltk->sentence_transformers==2.2.0) (8.0.4)\n",
      "Requirement already satisfied: charset-normalizer~=2.0.0 in /shared-libs/python3.9/py-core/lib/python3.9/site-packages (from requests->transformers<5.0.0,>=4.6.0->sentence_transformers==2.2.0) (2.0.12)\n",
      "Requirement already satisfied: urllib3<1.27,>=1.21.1 in /shared-libs/python3.9/py/lib/python3.9/site-packages (from requests->transformers<5.0.0,>=4.6.0->sentence_transformers==2.2.0) (1.26.9)\n",
      "Requirement already satisfied: idna<4,>=2.5 in /shared-libs/python3.9/py-core/lib/python3.9/site-packages (from requests->transformers<5.0.0,>=4.6.0->sentence_transformers==2.2.0) (3.3)\n",
      "Requirement already satisfied: certifi>=2017.4.17 in /shared-libs/python3.9/py/lib/python3.9/site-packages (from requests->transformers<5.0.0,>=4.6.0->sentence_transformers==2.2.0) (2021.10.8)\n",
      "Requirement already satisfied: six in /shared-libs/python3.9/py-core/lib/python3.9/site-packages (from sacremoses->transformers<5.0.0,>=4.6.0->sentence_transformers==2.2.0) (1.16.0)\n",
      "Requirement already satisfied: threadpoolctl>=2.0.0 in /shared-libs/python3.9/py/lib/python3.9/site-packages (from scikit-learn->sentence_transformers==2.2.0) (3.1.0)\n",
      "Requirement already satisfied: pillow!=8.3.*,>=5.3.0 in /shared-libs/python3.9/py/lib/python3.9/site-packages (from torchvision->sentence_transformers==2.2.0) (9.1.0)\n",
      "Building wheels for collected packages: sentence-transformers, sacremoses\n",
      "  Building wheel for sentence-transformers (setup.py) ... \u001b[?25ldone\n",
      "\u001b[?25h  Created wheel for sentence-transformers: filename=sentence_transformers-2.2.0-py3-none-any.whl size=120748 sha256=25e2ae1929cc00576380aa553478a916804e6a2fb4bcd6b005b4ab062e8d6d0e\n",
      "  Stored in directory: /root/.cache/pip/wheels/2b/11/3b/32a18fb9f2253b25d3d1a06f0a84e2d516e7efa19c8c71a283\n",
      "  Building wheel for sacremoses (setup.py) ... \u001b[?25ldone\n",
      "\u001b[?25h  Created wheel for sacremoses: filename=sacremoses-0.0.53-py3-none-any.whl size=895260 sha256=85f8853dece4e4c61c12457ab3ac0f17bd5f9db210dc1fe5d1d206864ee3033e\n",
      "  Stored in directory: /root/.cache/pip/wheels/12/1c/3d/46cf06718d63a32ff798a89594b61e7f345ab6b36d909ce033\n",
      "Successfully built sentence-transformers sacremoses\n",
      "Installing collected packages: tokenizers, sacremoses, huggingface-hub, transformers, sentencepiece, sentence-transformers\n",
      "Successfully installed huggingface-hub-0.5.1 sacremoses-0.0.53 sentence-transformers-2.2.0 sentencepiece-0.1.96 tokenizers-0.12.1 transformers-4.18.0\n",
      "\u001b[33mWARNING: You are using pip version 21.2.3; however, version 22.0.4 is available.\n",
      "You should consider upgrading via the '/root/venv/bin/python -m pip install --upgrade pip' command.\u001b[0m\n"
     ]
    }
   ],
   "source": [
    "!pip install sentence_transformers==2.2.0"
   ]
  },
  {
   "cell_type": "code",
   "execution_count": null,
   "metadata": {
    "cell_id": "3669d076197042ca9dbe2a47afd57791",
    "deepnote_cell_height": 136.1875,
    "deepnote_cell_type": "code",
    "deepnote_output_heights": [
     21.1875
    ],
    "deepnote_to_be_reexecuted": false,
    "execution_millis": 10,
    "execution_start": 1651702619017,
    "source_hash": "1c750437",
    "tags": []
   },
   "outputs": [
    {
     "data": {
      "text/plain": [
       "'1.20.0'"
      ]
     },
     "execution_count": 1,
     "metadata": {},
     "output_type": "execute_result"
    }
   ],
   "source": [
    "import numpy as np\n",
    "np.__version__"
   ]
  },
  {
   "cell_type": "code",
   "execution_count": null,
   "metadata": {
    "cell_id": "fea175d4-856e-4d99-aad0-abf4a6b2087e",
    "deepnote_cell_height": 297,
    "deepnote_cell_type": "code",
    "deepnote_to_be_reexecuted": false,
    "execution_millis": 16907,
    "execution_start": 1651702622995,
    "source_hash": "ebcdd465",
    "tags": []
   },
   "outputs": [],
   "source": [
    "import numpy as np\n",
    "import pandas as pd\n",
    "from hyperopt import hp\n",
    "\n",
    "# for USE model\n",
    "import tensorflow as tf\n",
    "import tensorflow_hub as hub\n",
    "\n",
    "# for Sentence Transformer models\n",
    "from sentence_transformers import SentenceTransformer\n",
    "\n",
    "import chatintents\n",
    "from chatintents import ChatIntents"
   ]
  },
  {
   "cell_type": "code",
   "execution_count": null,
   "metadata": {
    "cell_id": "5d887e70a69a4038a95eb36ae56617cf",
    "deepnote_cell_height": 117,
    "deepnote_cell_type": "code",
    "deepnote_to_be_reexecuted": false,
    "execution_millis": 0,
    "execution_start": 1651702643335,
    "source_hash": "f89d3aac",
    "tags": []
   },
   "outputs": [],
   "source": [
    "pd.set_option(\"display.max_rows\", 600)\n",
    "pd.set_option(\"display.max_columns\", 500)\n",
    "pd.set_option(\"max_colwidth\", 400)"
   ]
  },
  {
   "cell_type": "code",
   "execution_count": null,
   "metadata": {
    "cell_id": "3a3f941db19949d6a99fbd585c4f4d45",
    "deepnote_cell_height": 413,
    "deepnote_cell_type": "code",
    "deepnote_to_be_reexecuted": false,
    "execution_millis": 46,
    "execution_start": 1651702735468,
    "source_hash": "2f279316",
    "tags": []
   },
   "outputs": [
    {
     "data": {
      "application/vnd.deepnote.dataframe.v3+json": {
       "column_count": 2,
       "columns": [
        {
         "dtype": "object",
         "name": "sentence",
         "stats": {
          "categories": [
           {
            "count": 1,
            "name": "Enable etcd with security setting Add etcd client/server certificate generation process in ansible playbook and restart etcd after etcd security config enabled Test status 1) Deployment test on both simplex and duplex - PASS check the communication status between apiserver and etcd by kubectl command check the etcd status and configuration on controllers 2) Switch active controller - PASS After switching_ check the communication status between apiserver and etcd by kubectl command check the etcd status and configuration on controllers 3) Lock/unlock of a simplex controller - PASS 4) Backup/Restore test on simplex - PASS 5) Spontaneous reboot of a simplex controller - PASS 6) Enable secured etcd on simplex by script after deploy unsecured etcd - PASS 7) Backup test on Duplex - PASS 8) Restore test on Duplex - PASS 9) Re-installing a controller host on a duplex setup and then swacting to it - PASS Partial-Bug: 1894870 Depends-on: https://reviewopendevorg/#/c/760508/ Change-Id: I88691b84c9acc2e27f0b783d7454a873d3490072 Signed-off-by: Zhipeng Liu <zhipengsliu@intelcom>"
           },
           {
            "count": 1,
            "name": "Add new Debian security mirror suite pattern Starting with Debian 11 (bullseye)_ security packages are in bullseye-security as opposed to older releases like buster/updates List the last several stable releases in hopes nobody is trying to use this role to configure platforms older than Debian 8 (jessie_ the current \"oldoldstable\") A followup change demonstrates this works in the test-base-roles job_ but because the job matrices have to be updated in one fell swoop_ and many of those jobs won't work without this change already merged (due to protected use in our base job)_ it's not tested directly within this change Change-Id: Ib07269382ce379afc13f1702709a548ad829e663"
           },
           {
            "count": 3,
            "name": "3 others"
           }
          ],
          "nan_count": 0,
          "unique_count": 5
         }
        },
        {
         "dtype": "object",
         "name": "my_categories",
         "stats": {
          "categories": [
           {
            "count": 1,
            "name": "add_context_security_etcd"
           },
           {
            "count": 1,
            "name": "add_security_mirror_repository"
           },
           {
            "count": 3,
            "name": "3 others"
           }
          ],
          "nan_count": 0,
          "unique_count": 5
         }
        },
        {
         "dtype": "int64",
         "name": "_deepnote_index_column"
        }
       ],
       "row_count": 5,
       "rows": [
        {
         "_deepnote_index_column": 0,
         "my_categories": "add_context_security_etcd",
         "sentence": "Enable etcd with security setting Add etcd client/server certificate generation process in ansible playbook and restart etcd after etcd security config enabled Test status 1) Deployment test on both simplex and duplex - PASS check the communication status between apiserver and etcd by kubectl command check the etcd status and configuration on controllers 2) Switch active controller - PASS After switching_ check the communication status between apiserver and etcd by kubectl command check the etcd status and configuration on controllers 3) Lock/unlock of a simplex controller - PASS 4) Backup/Restore test on simplex - PASS 5) Spontaneous reboot of a simplex controller - PASS 6) Enable secured etcd on simplex by script after deploy unsecured etcd - PASS 7) Backup test on Duplex - PASS 8) Restore test on Duplex - PASS 9) Re-installing a controller host on a duplex setup and then swacting to it - PASS Partial-Bug: 1894870 Depends-on: https://reviewopendevorg/#/c/760508/ Change-Id: I88691b84…"
        },
        {
         "_deepnote_index_column": 1,
         "my_categories": "add_security_mirror_repository",
         "sentence": "Add new Debian security mirror suite pattern Starting with Debian 11 (bullseye)_ security packages are in bullseye-security as opposed to older releases like buster/updates List the last several stable releases in hopes nobody is trying to use this role to configure platforms older than Debian 8 (jessie_ the current \"oldoldstable\") A followup change demonstrates this works in the test-base-roles job_ but because the job matrices have to be updated in one fell swoop_ and many of those jobs won't work without this change already merged (due to protected use in our base job)_ it's not tested directly within this change Change-Id: Ib07269382ce379afc13f1702709a548ad829e663"
        },
        {
         "_deepnote_index_column": 2,
         "my_categories": "add_security_policy",
         "sentence": "Fix rule replacement in security policy Change-Id: I65918a003833dea45897d360ab7c3ce60616ec4c"
        },
        {
         "_deepnote_index_column": 3,
         "my_categories": "add_context_security_container",
         "sentence": "OvS: Add pod security context to pods This PS adds the pod security context snippet to pods Change-Id: I91e89d7798f6e850e47901551c5dc7cf9d80c97f Signed-off-by: Pete Birley <pete@portdirect>"
        },
        {
         "_deepnote_index_column": 4,
         "my_categories": "add_security_group_policy",
         "sentence": "Horizon: update east-west network security policy This patch set updates the ingress network security policy for the Horizon service Change-Id: I0a580b5e4e14678f6abc14b58d8de5d3d6172c44"
        }
       ]
      },
      "text/html": [
       "<div>\n",
       "<style scoped>\n",
       "    .dataframe tbody tr th:only-of-type {\n",
       "        vertical-align: middle;\n",
       "    }\n",
       "\n",
       "    .dataframe tbody tr th {\n",
       "        vertical-align: top;\n",
       "    }\n",
       "\n",
       "    .dataframe thead th {\n",
       "        text-align: right;\n",
       "    }\n",
       "</style>\n",
       "<table border=\"1\" class=\"dataframe\">\n",
       "  <thead>\n",
       "    <tr style=\"text-align: right;\">\n",
       "      <th></th>\n",
       "      <th>sentence</th>\n",
       "      <th>my_categories</th>\n",
       "    </tr>\n",
       "  </thead>\n",
       "  <tbody>\n",
       "    <tr>\n",
       "      <th>0</th>\n",
       "      <td>Enable etcd with security setting Add etcd client/server certificate generation process in ansible playbook and restart etcd after etcd security config enabled Test status 1) Deployment test on both simplex and duplex - PASS check the communication status between apiserver and etcd by kubectl command check the etcd status and configuration on controllers 2) Switch active controller - PASS Afte...</td>\n",
       "      <td>add_context_security_etcd</td>\n",
       "    </tr>\n",
       "    <tr>\n",
       "      <th>1</th>\n",
       "      <td>Add new Debian security mirror suite pattern Starting with Debian 11 (bullseye)_ security packages are in bullseye-security as opposed to older releases like buster/updates List the last several stable releases in hopes nobody is trying to use this role to configure platforms older than Debian 8 (jessie_ the current \"oldoldstable\") A followup change demonstrates this works in the test-base-rol...</td>\n",
       "      <td>add_security_mirror_repository</td>\n",
       "    </tr>\n",
       "    <tr>\n",
       "      <th>2</th>\n",
       "      <td>Fix rule replacement in security policy Change-Id: I65918a003833dea45897d360ab7c3ce60616ec4c</td>\n",
       "      <td>add_security_policy</td>\n",
       "    </tr>\n",
       "    <tr>\n",
       "      <th>3</th>\n",
       "      <td>OvS: Add pod security context to pods This PS adds the pod security context snippet to pods Change-Id: I91e89d7798f6e850e47901551c5dc7cf9d80c97f Signed-off-by: Pete Birley &lt;pete@portdirect&gt;</td>\n",
       "      <td>add_context_security_container</td>\n",
       "    </tr>\n",
       "    <tr>\n",
       "      <th>4</th>\n",
       "      <td>Horizon: update east-west network security policy This patch set updates the ingress network security policy for the Horizon service Change-Id: I0a580b5e4e14678f6abc14b58d8de5d3d6172c44</td>\n",
       "      <td>add_security_group_policy</td>\n",
       "    </tr>\n",
       "  </tbody>\n",
       "</table>\n",
       "</div>"
      ],
      "text/plain": [
       "                                                                                                                                                                                                                                                                                                                                                                                                          sentence  \\\n",
       "0  Enable etcd with security setting Add etcd client/server certificate generation process in ansible playbook and restart etcd after etcd security config enabled Test status 1) Deployment test on both simplex and duplex - PASS check the communication status between apiserver and etcd by kubectl command check the etcd status and configuration on controllers 2) Switch active controller - PASS Afte...   \n",
       "1  Add new Debian security mirror suite pattern Starting with Debian 11 (bullseye)_ security packages are in bullseye-security as opposed to older releases like buster/updates List the last several stable releases in hopes nobody is trying to use this role to configure platforms older than Debian 8 (jessie_ the current \"oldoldstable\") A followup change demonstrates this works in the test-base-rol...   \n",
       "2                                                                                                                                                                                                                                                                                                                     Fix rule replacement in security policy Change-Id: I65918a003833dea45897d360ab7c3ce60616ec4c   \n",
       "3                                                                                                                                                                                                                    OvS: Add pod security context to pods This PS adds the pod security context snippet to pods Change-Id: I91e89d7798f6e850e47901551c5dc7cf9d80c97f Signed-off-by: Pete Birley <pete@portdirect>   \n",
       "4                                                                                                                                                                                                                        Horizon: update east-west network security policy This patch set updates the ingress network security policy for the Horizon service Change-Id: I0a580b5e4e14678f6abc14b58d8de5d3d6172c44   \n",
       "\n",
       "                    my_categories  \n",
       "0       add_context_security_etcd  \n",
       "1  add_security_mirror_repository  \n",
       "2             add_security_policy  \n",
       "3  add_context_security_container  \n",
       "4       add_security_group_policy  "
      ]
     },
     "execution_count": 6,
     "metadata": {},
     "output_type": "execute_result"
    }
   ],
   "source": [
    "data_sample = pd.read_csv('/work/ssw_565_final_project/p1/my_labelled_data.csv', sep='\\t')[['sentence', 'my_categories']]\n",
    "data_sample.head()"
   ]
  },
  {
   "cell_type": "code",
   "execution_count": null,
   "metadata": {
    "cell_id": "d4fcf87f1d224c5f8759c987a6ad2775",
    "deepnote_cell_height": 81,
    "deepnote_cell_type": "code",
    "deepnote_to_be_reexecuted": false,
    "execution_millis": 0,
    "execution_start": 1651702780906,
    "source_hash": "dd32fe6c",
    "tags": []
   },
   "outputs": [],
   "source": [
    "import torch"
   ]
  },
  {
   "cell_type": "code",
   "execution_count": null,
   "metadata": {
    "cell_id": "15f40a4396be4d39aaefa638927a2447",
    "deepnote_cell_height": 171,
    "deepnote_cell_type": "code",
    "deepnote_to_be_reexecuted": false,
    "execution_millis": 536,
    "execution_start": 1651702823839,
    "source_hash": "1a91743c",
    "tags": []
   },
   "outputs": [],
   "source": [
    "#import the models\n",
    "model_use = torch.load('/work/ssw_565_final_project/p1/model_use')\n",
    "model_st1 = torch.load('/work/ssw_565_final_project/p1/model_st1')\n",
    "model_st2 = torch.load('/work/ssw_565_final_project/p1/model_st2')\n",
    "model_st3 = torch.load('/work/ssw_565_final_project/p1/model_st3')\n",
    "model_st4 = torch.load('/work/ssw_565_final_project/p1/model_st4')"
   ]
  },
  {
   "cell_type": "code",
   "execution_count": null,
   "metadata": {
    "cell_id": "d667fa08abd4495b841991e6850de023",
    "deepnote_cell_height": 413,
    "deepnote_cell_type": "code",
    "deepnote_to_be_reexecuted": false,
    "execution_millis": 5,
    "execution_start": 1651702978743,
    "source_hash": "56b674eb",
    "tags": []
   },
   "outputs": [
    {
     "data": {
      "application/vnd.deepnote.dataframe.v3+json": {
       "column_count": 2,
       "columns": [
        {
         "dtype": "object",
         "name": "sentence",
         "stats": {
          "categories": [
           {
            "count": 1,
            "name": "Enable etcd with security setting Add etcd client/server certificate generation process in ansible playbook and restart etcd after etcd security config enabled Test status 1) Deployment test on both simplex and duplex - PASS check the communication status between apiserver and etcd by kubectl command check the etcd status and configuration on controllers 2) Switch active controller - PASS After switching_ check the communication status between apiserver and etcd by kubectl command check the etcd status and configuration on controllers 3) Lock/unlock of a simplex controller - PASS 4) Backup/Restore test on simplex - PASS 5) Spontaneous reboot of a simplex controller - PASS 6) Enable secured etcd on simplex by script after deploy unsecured etcd - PASS 7) Backup test on Duplex - PASS 8) Restore test on Duplex - PASS 9) Re-installing a controller host on a duplex setup and then swacting to it - PASS Partial-Bug: 1894870 Depends-on: https://reviewopendevorg/#/c/760508/ Change-Id: I88691b84c9acc2e27f0b783d7454a873d3490072 Signed-off-by: Zhipeng Liu <zhipengsliu@intelcom>"
           },
           {
            "count": 1,
            "name": "Add new Debian security mirror suite pattern Starting with Debian 11 (bullseye)_ security packages are in bullseye-security as opposed to older releases like buster/updates List the last several stable releases in hopes nobody is trying to use this role to configure platforms older than Debian 8 (jessie_ the current \"oldoldstable\") A followup change demonstrates this works in the test-base-roles job_ but because the job matrices have to be updated in one fell swoop_ and many of those jobs won't work without this change already merged (due to protected use in our base job)_ it's not tested directly within this change Change-Id: Ib07269382ce379afc13f1702709a548ad829e663"
           },
           {
            "count": 3,
            "name": "3 others"
           }
          ],
          "nan_count": 0,
          "unique_count": 5
         }
        },
        {
         "dtype": "object",
         "name": "my_categories",
         "stats": {
          "categories": [
           {
            "count": 1,
            "name": "add_context_security_etcd"
           },
           {
            "count": 1,
            "name": "add_security_mirror_repository"
           },
           {
            "count": 3,
            "name": "3 others"
           }
          ],
          "nan_count": 0,
          "unique_count": 5
         }
        },
        {
         "dtype": "int64",
         "name": "_deepnote_index_column"
        }
       ],
       "row_count": 5,
       "rows": [
        {
         "_deepnote_index_column": 0,
         "my_categories": "add_context_security_etcd",
         "sentence": "Enable etcd with security setting Add etcd client/server certificate generation process in ansible playbook and restart etcd after etcd security config enabled Test status 1) Deployment test on both simplex and duplex - PASS check the communication status between apiserver and etcd by kubectl command check the etcd status and configuration on controllers 2) Switch active controller - PASS After switching_ check the communication status between apiserver and etcd by kubectl command check the etcd status and configuration on controllers 3) Lock/unlock of a simplex controller - PASS 4) Backup/Restore test on simplex - PASS 5) Spontaneous reboot of a simplex controller - PASS 6) Enable secured etcd on simplex by script after deploy unsecured etcd - PASS 7) Backup test on Duplex - PASS 8) Restore test on Duplex - PASS 9) Re-installing a controller host on a duplex setup and then swacting to it - PASS Partial-Bug: 1894870 Depends-on: https://reviewopendevorg/#/c/760508/ Change-Id: I88691b84…"
        },
        {
         "_deepnote_index_column": 1,
         "my_categories": "add_security_mirror_repository",
         "sentence": "Add new Debian security mirror suite pattern Starting with Debian 11 (bullseye)_ security packages are in bullseye-security as opposed to older releases like buster/updates List the last several stable releases in hopes nobody is trying to use this role to configure platforms older than Debian 8 (jessie_ the current \"oldoldstable\") A followup change demonstrates this works in the test-base-roles job_ but because the job matrices have to be updated in one fell swoop_ and many of those jobs won't work without this change already merged (due to protected use in our base job)_ it's not tested directly within this change Change-Id: Ib07269382ce379afc13f1702709a548ad829e663"
        },
        {
         "_deepnote_index_column": 2,
         "my_categories": "add_security_policy",
         "sentence": "Fix rule replacement in security policy Change-Id: I65918a003833dea45897d360ab7c3ce60616ec4c"
        },
        {
         "_deepnote_index_column": 3,
         "my_categories": "add_context_security_container",
         "sentence": "OvS: Add pod security context to pods This PS adds the pod security context snippet to pods Change-Id: I91e89d7798f6e850e47901551c5dc7cf9d80c97f Signed-off-by: Pete Birley <pete@portdirect>"
        },
        {
         "_deepnote_index_column": 4,
         "my_categories": "add_security_group_policy",
         "sentence": "Horizon: update east-west network security policy This patch set updates the ingress network security policy for the Horizon service Change-Id: I0a580b5e4e14678f6abc14b58d8de5d3d6172c44"
        }
       ]
      },
      "text/html": [
       "<div>\n",
       "<style scoped>\n",
       "    .dataframe tbody tr th:only-of-type {\n",
       "        vertical-align: middle;\n",
       "    }\n",
       "\n",
       "    .dataframe tbody tr th {\n",
       "        vertical-align: top;\n",
       "    }\n",
       "\n",
       "    .dataframe thead th {\n",
       "        text-align: right;\n",
       "    }\n",
       "</style>\n",
       "<table border=\"1\" class=\"dataframe\">\n",
       "  <thead>\n",
       "    <tr style=\"text-align: right;\">\n",
       "      <th></th>\n",
       "      <th>sentence</th>\n",
       "      <th>my_categories</th>\n",
       "    </tr>\n",
       "  </thead>\n",
       "  <tbody>\n",
       "    <tr>\n",
       "      <th>0</th>\n",
       "      <td>Enable etcd with security setting Add etcd client/server certificate generation process in ansible playbook and restart etcd after etcd security config enabled Test status 1) Deployment test on both simplex and duplex - PASS check the communication status between apiserver and etcd by kubectl command check the etcd status and configuration on controllers 2) Switch active controller - PASS Afte...</td>\n",
       "      <td>add_context_security_etcd</td>\n",
       "    </tr>\n",
       "    <tr>\n",
       "      <th>1</th>\n",
       "      <td>Add new Debian security mirror suite pattern Starting with Debian 11 (bullseye)_ security packages are in bullseye-security as opposed to older releases like buster/updates List the last several stable releases in hopes nobody is trying to use this role to configure platforms older than Debian 8 (jessie_ the current \"oldoldstable\") A followup change demonstrates this works in the test-base-rol...</td>\n",
       "      <td>add_security_mirror_repository</td>\n",
       "    </tr>\n",
       "    <tr>\n",
       "      <th>2</th>\n",
       "      <td>Fix rule replacement in security policy Change-Id: I65918a003833dea45897d360ab7c3ce60616ec4c</td>\n",
       "      <td>add_security_policy</td>\n",
       "    </tr>\n",
       "    <tr>\n",
       "      <th>3</th>\n",
       "      <td>OvS: Add pod security context to pods This PS adds the pod security context snippet to pods Change-Id: I91e89d7798f6e850e47901551c5dc7cf9d80c97f Signed-off-by: Pete Birley &lt;pete@portdirect&gt;</td>\n",
       "      <td>add_context_security_container</td>\n",
       "    </tr>\n",
       "    <tr>\n",
       "      <th>4</th>\n",
       "      <td>Horizon: update east-west network security policy This patch set updates the ingress network security policy for the Horizon service Change-Id: I0a580b5e4e14678f6abc14b58d8de5d3d6172c44</td>\n",
       "      <td>add_security_group_policy</td>\n",
       "    </tr>\n",
       "  </tbody>\n",
       "</table>\n",
       "</div>"
      ],
      "text/plain": [
       "                                                                                                                                                                                                                                                                                                                                                                                                          sentence  \\\n",
       "0  Enable etcd with security setting Add etcd client/server certificate generation process in ansible playbook and restart etcd after etcd security config enabled Test status 1) Deployment test on both simplex and duplex - PASS check the communication status between apiserver and etcd by kubectl command check the etcd status and configuration on controllers 2) Switch active controller - PASS Afte...   \n",
       "1  Add new Debian security mirror suite pattern Starting with Debian 11 (bullseye)_ security packages are in bullseye-security as opposed to older releases like buster/updates List the last several stable releases in hopes nobody is trying to use this role to configure platforms older than Debian 8 (jessie_ the current \"oldoldstable\") A followup change demonstrates this works in the test-base-rol...   \n",
       "2                                                                                                                                                                                                                                                                                                                     Fix rule replacement in security policy Change-Id: I65918a003833dea45897d360ab7c3ce60616ec4c   \n",
       "3                                                                                                                                                                                                                    OvS: Add pod security context to pods This PS adds the pod security context snippet to pods Change-Id: I91e89d7798f6e850e47901551c5dc7cf9d80c97f Signed-off-by: Pete Birley <pete@portdirect>   \n",
       "4                                                                                                                                                                                                                        Horizon: update east-west network security policy This patch set updates the ingress network security policy for the Horizon service Change-Id: I0a580b5e4e14678f6abc14b58d8de5d3d6172c44   \n",
       "\n",
       "                    my_categories  \n",
       "0       add_context_security_etcd  \n",
       "1  add_security_mirror_repository  \n",
       "2             add_security_policy  \n",
       "3  add_context_security_container  \n",
       "4       add_security_group_policy  "
      ]
     },
     "execution_count": 12,
     "metadata": {},
     "output_type": "execute_result"
    }
   ],
   "source": [
    "data_sample_copy = data_sample\n",
    "data_sample_copy.head()"
   ]
  },
  {
   "cell_type": "code",
   "execution_count": null,
   "metadata": {
    "cell_id": "133b1b0238eb44eabf0a852d364e5fdd",
    "deepnote_cell_height": 81,
    "deepnote_cell_type": "code",
    "deepnote_to_be_reexecuted": false,
    "execution_millis": 1,
    "execution_start": 1651703239260,
    "source_hash": "7dfaa316",
    "tags": []
   },
   "outputs": [],
   "source": [
    "data_sample_copy.rename(columns={'sentence': 'text', 'my_categories': 'category'}, inplace=True)"
   ]
  },
  {
   "cell_type": "code",
   "execution_count": null,
   "metadata": {
    "cell_id": "de6f128a8fc04fd18d9e6ca8df30b265",
    "deepnote_cell_height": 395,
    "deepnote_cell_type": "code",
    "deepnote_to_be_reexecuted": false,
    "execution_millis": 14,
    "execution_start": 1651703068924,
    "source_hash": "e8e8ef5e",
    "tags": []
   },
   "outputs": [
    {
     "data": {
      "application/vnd.deepnote.dataframe.v3+json": {
       "column_count": 2,
       "columns": [
        {
         "dtype": "object",
         "name": "text",
         "stats": {
          "categories": [
           {
            "count": 1,
            "name": "Enable etcd with security setting Add etcd client/server certificate generation process in ansible playbook and restart etcd after etcd security config enabled Test status 1) Deployment test on both simplex and duplex - PASS check the communication status between apiserver and etcd by kubectl command check the etcd status and configuration on controllers 2) Switch active controller - PASS After switching_ check the communication status between apiserver and etcd by kubectl command check the etcd status and configuration on controllers 3) Lock/unlock of a simplex controller - PASS 4) Backup/Restore test on simplex - PASS 5) Spontaneous reboot of a simplex controller - PASS 6) Enable secured etcd on simplex by script after deploy unsecured etcd - PASS 7) Backup test on Duplex - PASS 8) Restore test on Duplex - PASS 9) Re-installing a controller host on a duplex setup and then swacting to it - PASS Partial-Bug: 1894870 Depends-on: https://reviewopendevorg/#/c/760508/ Change-Id: I88691b84c9acc2e27f0b783d7454a873d3490072 Signed-off-by: Zhipeng Liu <zhipengsliu@intelcom>"
           },
           {
            "count": 1,
            "name": "Add new Debian security mirror suite pattern Starting with Debian 11 (bullseye)_ security packages are in bullseye-security as opposed to older releases like buster/updates List the last several stable releases in hopes nobody is trying to use this role to configure platforms older than Debian 8 (jessie_ the current \"oldoldstable\") A followup change demonstrates this works in the test-base-roles job_ but because the job matrices have to be updated in one fell swoop_ and many of those jobs won't work without this change already merged (due to protected use in our base job)_ it's not tested directly within this change Change-Id: Ib07269382ce379afc13f1702709a548ad829e663"
           },
           {
            "count": 3,
            "name": "3 others"
           }
          ],
          "nan_count": 0,
          "unique_count": 5
         }
        },
        {
         "dtype": "object",
         "name": "my_categories",
         "stats": {
          "categories": [
           {
            "count": 1,
            "name": "add_context_security_etcd"
           },
           {
            "count": 1,
            "name": "add_security_mirror_repository"
           },
           {
            "count": 3,
            "name": "3 others"
           }
          ],
          "nan_count": 0,
          "unique_count": 5
         }
        },
        {
         "dtype": "int64",
         "name": "_deepnote_index_column"
        }
       ],
       "row_count": 5,
       "rows": [
        {
         "_deepnote_index_column": 0,
         "my_categories": "add_context_security_etcd",
         "text": "Enable etcd with security setting Add etcd client/server certificate generation process in ansible playbook and restart etcd after etcd security config enabled Test status 1) Deployment test on both simplex and duplex - PASS check the communication status between apiserver and etcd by kubectl command check the etcd status and configuration on controllers 2) Switch active controller - PASS After switching_ check the communication status between apiserver and etcd by kubectl command check the etcd status and configuration on controllers 3) Lock/unlock of a simplex controller - PASS 4) Backup/Restore test on simplex - PASS 5) Spontaneous reboot of a simplex controller - PASS 6) Enable secured etcd on simplex by script after deploy unsecured etcd - PASS 7) Backup test on Duplex - PASS 8) Restore test on Duplex - PASS 9) Re-installing a controller host on a duplex setup and then swacting to it - PASS Partial-Bug: 1894870 Depends-on: https://reviewopendevorg/#/c/760508/ Change-Id: I88691b84…"
        },
        {
         "_deepnote_index_column": 1,
         "my_categories": "add_security_mirror_repository",
         "text": "Add new Debian security mirror suite pattern Starting with Debian 11 (bullseye)_ security packages are in bullseye-security as opposed to older releases like buster/updates List the last several stable releases in hopes nobody is trying to use this role to configure platforms older than Debian 8 (jessie_ the current \"oldoldstable\") A followup change demonstrates this works in the test-base-roles job_ but because the job matrices have to be updated in one fell swoop_ and many of those jobs won't work without this change already merged (due to protected use in our base job)_ it's not tested directly within this change Change-Id: Ib07269382ce379afc13f1702709a548ad829e663"
        },
        {
         "_deepnote_index_column": 2,
         "my_categories": "add_security_policy",
         "text": "Fix rule replacement in security policy Change-Id: I65918a003833dea45897d360ab7c3ce60616ec4c"
        },
        {
         "_deepnote_index_column": 3,
         "my_categories": "add_context_security_container",
         "text": "OvS: Add pod security context to pods This PS adds the pod security context snippet to pods Change-Id: I91e89d7798f6e850e47901551c5dc7cf9d80c97f Signed-off-by: Pete Birley <pete@portdirect>"
        },
        {
         "_deepnote_index_column": 4,
         "my_categories": "add_security_group_policy",
         "text": "Horizon: update east-west network security policy This patch set updates the ingress network security policy for the Horizon service Change-Id: I0a580b5e4e14678f6abc14b58d8de5d3d6172c44"
        }
       ]
      },
      "text/html": [
       "<div>\n",
       "<style scoped>\n",
       "    .dataframe tbody tr th:only-of-type {\n",
       "        vertical-align: middle;\n",
       "    }\n",
       "\n",
       "    .dataframe tbody tr th {\n",
       "        vertical-align: top;\n",
       "    }\n",
       "\n",
       "    .dataframe thead th {\n",
       "        text-align: right;\n",
       "    }\n",
       "</style>\n",
       "<table border=\"1\" class=\"dataframe\">\n",
       "  <thead>\n",
       "    <tr style=\"text-align: right;\">\n",
       "      <th></th>\n",
       "      <th>text</th>\n",
       "      <th>my_categories</th>\n",
       "    </tr>\n",
       "  </thead>\n",
       "  <tbody>\n",
       "    <tr>\n",
       "      <th>0</th>\n",
       "      <td>Enable etcd with security setting Add etcd client/server certificate generation process in ansible playbook and restart etcd after etcd security config enabled Test status 1) Deployment test on both simplex and duplex - PASS check the communication status between apiserver and etcd by kubectl command check the etcd status and configuration on controllers 2) Switch active controller - PASS Afte...</td>\n",
       "      <td>add_context_security_etcd</td>\n",
       "    </tr>\n",
       "    <tr>\n",
       "      <th>1</th>\n",
       "      <td>Add new Debian security mirror suite pattern Starting with Debian 11 (bullseye)_ security packages are in bullseye-security as opposed to older releases like buster/updates List the last several stable releases in hopes nobody is trying to use this role to configure platforms older than Debian 8 (jessie_ the current \"oldoldstable\") A followup change demonstrates this works in the test-base-rol...</td>\n",
       "      <td>add_security_mirror_repository</td>\n",
       "    </tr>\n",
       "    <tr>\n",
       "      <th>2</th>\n",
       "      <td>Fix rule replacement in security policy Change-Id: I65918a003833dea45897d360ab7c3ce60616ec4c</td>\n",
       "      <td>add_security_policy</td>\n",
       "    </tr>\n",
       "    <tr>\n",
       "      <th>3</th>\n",
       "      <td>OvS: Add pod security context to pods This PS adds the pod security context snippet to pods Change-Id: I91e89d7798f6e850e47901551c5dc7cf9d80c97f Signed-off-by: Pete Birley &lt;pete@portdirect&gt;</td>\n",
       "      <td>add_context_security_container</td>\n",
       "    </tr>\n",
       "    <tr>\n",
       "      <th>4</th>\n",
       "      <td>Horizon: update east-west network security policy This patch set updates the ingress network security policy for the Horizon service Change-Id: I0a580b5e4e14678f6abc14b58d8de5d3d6172c44</td>\n",
       "      <td>add_security_group_policy</td>\n",
       "    </tr>\n",
       "  </tbody>\n",
       "</table>\n",
       "</div>"
      ],
      "text/plain": [
       "                                                                                                                                                                                                                                                                                                                                                                                                              text  \\\n",
       "0  Enable etcd with security setting Add etcd client/server certificate generation process in ansible playbook and restart etcd after etcd security config enabled Test status 1) Deployment test on both simplex and duplex - PASS check the communication status between apiserver and etcd by kubectl command check the etcd status and configuration on controllers 2) Switch active controller - PASS Afte...   \n",
       "1  Add new Debian security mirror suite pattern Starting with Debian 11 (bullseye)_ security packages are in bullseye-security as opposed to older releases like buster/updates List the last several stable releases in hopes nobody is trying to use this role to configure platforms older than Debian 8 (jessie_ the current \"oldoldstable\") A followup change demonstrates this works in the test-base-rol...   \n",
       "2                                                                                                                                                                                                                                                                                                                     Fix rule replacement in security policy Change-Id: I65918a003833dea45897d360ab7c3ce60616ec4c   \n",
       "3                                                                                                                                                                                                                    OvS: Add pod security context to pods This PS adds the pod security context snippet to pods Change-Id: I91e89d7798f6e850e47901551c5dc7cf9d80c97f Signed-off-by: Pete Birley <pete@portdirect>   \n",
       "4                                                                                                                                                                                                                        Horizon: update east-west network security policy This patch set updates the ingress network security policy for the Horizon service Change-Id: I0a580b5e4e14678f6abc14b58d8de5d3d6172c44   \n",
       "\n",
       "                    my_categories  \n",
       "0       add_context_security_etcd  \n",
       "1  add_security_mirror_repository  \n",
       "2             add_security_policy  \n",
       "3  add_context_security_container  \n",
       "4       add_security_group_policy  "
      ]
     },
     "execution_count": 14,
     "metadata": {},
     "output_type": "execute_result"
    }
   ],
   "source": [
    "data_sample_copy.head()"
   ]
  },
  {
   "cell_type": "code",
   "execution_count": null,
   "metadata": {
    "cell_id": "3c2e3f81e3154aeeba6d1390c2a33032",
    "deepnote_cell_height": 286,
    "deepnote_cell_type": "code",
    "deepnote_to_be_reexecuted": false,
    "execution_millis": 92051,
    "execution_start": 1651703080204,
    "source_hash": "72cd4475",
    "tags": []
   },
   "outputs": [
    {
     "name": "stdout",
     "output_type": "stream",
     "text": [
      "Downloading language model for the spaCy dependency parser\n",
      "(only required the first time this is run)\n",
      "\n",
      "\u001b[38;5;2m✔ Download and installation successful\u001b[0m\n",
      "You can now load the package via spacy.load('en_core_web_sm')\n",
      "CPU times: user 1min 27s, sys: 1.5 s, total: 1min 28s\n",
      "Wall time: 1min 32s\n"
     ]
    }
   ],
   "source": [
    "%%time\n",
    "\n",
    "df_summary, labeled_docs = model_st1.apply_and_summarize_labels(data_sample_copy[['text']])\n"
   ]
  },
  {
   "cell_type": "code",
   "execution_count": null,
   "metadata": {
    "cell_id": "3756aac1ea4d45a29ef98a6e416b1f66",
    "deepnote_cell_height": 395,
    "deepnote_cell_type": "code",
    "deepnote_to_be_reexecuted": false,
    "execution_millis": 4,
    "execution_start": 1651703176588,
    "source_hash": "8beb826d",
    "tags": []
   },
   "outputs": [
    {
     "data": {
      "application/vnd.deepnote.dataframe.v3+json": {
       "column_count": 3,
       "columns": [
        {
         "dtype": "int64",
         "name": "label_st1",
         "stats": {
          "histogram": [
           {
            "bin_end": 7.199999999999999,
            "bin_start": -1,
            "count": 1
           },
           {
            "bin_end": 15.399999999999999,
            "bin_start": 7.199999999999999,
            "count": 0
           },
           {
            "bin_end": 23.599999999999998,
            "bin_start": 15.399999999999999,
            "count": 0
           },
           {
            "bin_end": 31.799999999999997,
            "bin_start": 23.599999999999998,
            "count": 0
           },
           {
            "bin_end": 40,
            "bin_start": 31.799999999999997,
            "count": 1
           },
           {
            "bin_end": 48.199999999999996,
            "bin_start": 40,
            "count": 0
           },
           {
            "bin_end": 56.39999999999999,
            "bin_start": 48.199999999999996,
            "count": 0
           },
           {
            "bin_end": 64.6,
            "bin_start": 56.39999999999999,
            "count": 1
           },
           {
            "bin_end": 72.8,
            "bin_start": 64.6,
            "count": 0
           },
           {
            "bin_end": 81,
            "bin_start": 72.8,
            "count": 2
           }
          ],
          "max": "81",
          "min": "-1",
          "nan_count": 0,
          "unique_count": 5
         }
        },
        {
         "dtype": "int64",
         "name": "count",
         "stats": {
          "histogram": [
           {
            "bin_end": 144.9,
            "bin_start": 100,
            "count": 1
           },
           {
            "bin_end": 189.8,
            "bin_start": 144.9,
            "count": 2
           },
           {
            "bin_end": 234.7,
            "bin_start": 189.8,
            "count": 1
           },
           {
            "bin_end": 279.6,
            "bin_start": 234.7,
            "count": 0
           },
           {
            "bin_end": 324.5,
            "bin_start": 279.6,
            "count": 0
           },
           {
            "bin_end": 369.4,
            "bin_start": 324.5,
            "count": 0
           },
           {
            "bin_end": 414.3,
            "bin_start": 369.4,
            "count": 0
           },
           {
            "bin_end": 459.2,
            "bin_start": 414.3,
            "count": 0
           },
           {
            "bin_end": 504.09999999999997,
            "bin_start": 459.2,
            "count": 0
           },
           {
            "bin_end": 549,
            "bin_start": 504.09999999999997,
            "count": 1
           }
          ],
          "max": "549",
          "min": "100",
          "nan_count": 0,
          "unique_count": 5
         }
        },
        {
         "dtype": "object",
         "name": "label",
         "stats": {
          "categories": [
           {
            "count": 1,
            "name": "add_id_security_group"
           },
           {
            "count": 1,
            "name": "add_rule_security_group"
           },
           {
            "count": 3,
            "name": "3 others"
           }
          ],
          "nan_count": 0,
          "unique_count": 5
         }
        },
        {
         "dtype": "int64",
         "name": "_deepnote_index_column"
        }
       ],
       "row_count": 5,
       "rows": [
        {
         "_deepnote_index_column": 0,
         "count": 549,
         "label": "add_id_security_group",
         "label_st1": -1
        },
        {
         "_deepnote_index_column": 60,
         "count": 190,
         "label": "add_rule_security_group",
         "label_st1": 59
        },
        {
         "_deepnote_index_column": 75,
         "count": 189,
         "label": "add_id_security_bug",
         "label_st1": 74
        },
        {
         "_deepnote_index_column": 33,
         "count": 182,
         "label": "adds_context_security_container",
         "label_st1": 32
        },
        {
         "_deepnote_index_column": 82,
         "count": 100,
         "label": "add_test_security_group",
         "label_st1": 81
        }
       ]
      },
      "text/html": [
       "<div>\n",
       "<style scoped>\n",
       "    .dataframe tbody tr th:only-of-type {\n",
       "        vertical-align: middle;\n",
       "    }\n",
       "\n",
       "    .dataframe tbody tr th {\n",
       "        vertical-align: top;\n",
       "    }\n",
       "\n",
       "    .dataframe thead th {\n",
       "        text-align: right;\n",
       "    }\n",
       "</style>\n",
       "<table border=\"1\" class=\"dataframe\">\n",
       "  <thead>\n",
       "    <tr style=\"text-align: right;\">\n",
       "      <th></th>\n",
       "      <th>label_st1</th>\n",
       "      <th>count</th>\n",
       "      <th>label</th>\n",
       "    </tr>\n",
       "  </thead>\n",
       "  <tbody>\n",
       "    <tr>\n",
       "      <th>0</th>\n",
       "      <td>-1</td>\n",
       "      <td>549</td>\n",
       "      <td>add_id_security_group</td>\n",
       "    </tr>\n",
       "    <tr>\n",
       "      <th>60</th>\n",
       "      <td>59</td>\n",
       "      <td>190</td>\n",
       "      <td>add_rule_security_group</td>\n",
       "    </tr>\n",
       "    <tr>\n",
       "      <th>75</th>\n",
       "      <td>74</td>\n",
       "      <td>189</td>\n",
       "      <td>add_id_security_bug</td>\n",
       "    </tr>\n",
       "    <tr>\n",
       "      <th>33</th>\n",
       "      <td>32</td>\n",
       "      <td>182</td>\n",
       "      <td>adds_context_security_container</td>\n",
       "    </tr>\n",
       "    <tr>\n",
       "      <th>82</th>\n",
       "      <td>81</td>\n",
       "      <td>100</td>\n",
       "      <td>add_test_security_group</td>\n",
       "    </tr>\n",
       "  </tbody>\n",
       "</table>\n",
       "</div>"
      ],
      "text/plain": [
       "    label_st1  count                            label\n",
       "0          -1    549            add_id_security_group\n",
       "60         59    190          add_rule_security_group\n",
       "75         74    189              add_id_security_bug\n",
       "33         32    182  adds_context_security_container\n",
       "82         81    100          add_test_security_group"
      ]
     },
     "execution_count": 16,
     "metadata": {},
     "output_type": "execute_result"
    }
   ],
   "source": [
    "df_summary.head()"
   ]
  },
  {
   "cell_type": "code",
   "execution_count": null,
   "metadata": {
    "cell_id": "5dd882205ac84ce6acf178b4ad781be6",
    "deepnote_cell_height": 395,
    "deepnote_cell_type": "code",
    "deepnote_to_be_reexecuted": false,
    "execution_millis": 42,
    "execution_start": 1651703179051,
    "source_hash": "b99138b6",
    "tags": []
   },
   "outputs": [
    {
     "data": {
      "application/vnd.deepnote.dataframe.v3+json": {
       "column_count": 3,
       "columns": [
        {
         "dtype": "object",
         "name": "text",
         "stats": {
          "categories": [
           {
            "count": 1,
            "name": "Enable etcd with security setting Add etcd client/server certificate generation process in ansible playbook and restart etcd after etcd security config enabled Test status 1) Deployment test on both simplex and duplex - PASS check the communication status between apiserver and etcd by kubectl command check the etcd status and configuration on controllers 2) Switch active controller - PASS After switching_ check the communication status between apiserver and etcd by kubectl command check the etcd status and configuration on controllers 3) Lock/unlock of a simplex controller - PASS 4) Backup/Restore test on simplex - PASS 5) Spontaneous reboot of a simplex controller - PASS 6) Enable secured etcd on simplex by script after deploy unsecured etcd - PASS 7) Backup test on Duplex - PASS 8) Restore test on Duplex - PASS 9) Re-installing a controller host on a duplex setup and then swacting to it - PASS Partial-Bug: 1894870 Depends-on: https://reviewopendevorg/#/c/760508/ Change-Id: I88691b84c9acc2e27f0b783d7454a873d3490072 Signed-off-by: Zhipeng Liu <zhipengsliu@intelcom>"
           },
           {
            "count": 1,
            "name": "Add new Debian security mirror suite pattern Starting with Debian 11 (bullseye)_ security packages are in bullseye-security as opposed to older releases like buster/updates List the last several stable releases in hopes nobody is trying to use this role to configure platforms older than Debian 8 (jessie_ the current \"oldoldstable\") A followup change demonstrates this works in the test-base-roles job_ but because the job matrices have to be updated in one fell swoop_ and many of those jobs won't work without this change already merged (due to protected use in our base job)_ it's not tested directly within this change Change-Id: Ib07269382ce379afc13f1702709a548ad829e663"
           },
           {
            "count": 3,
            "name": "3 others"
           }
          ],
          "nan_count": 0,
          "unique_count": 5
         }
        },
        {
         "dtype": "int64",
         "name": "label_st1",
         "stats": {
          "histogram": [
           {
            "bin_end": 33.2,
            "bin_start": 29,
            "count": 2
           },
           {
            "bin_end": 37.4,
            "bin_start": 33.2,
            "count": 0
           },
           {
            "bin_end": 41.6,
            "bin_start": 37.4,
            "count": 0
           },
           {
            "bin_end": 45.8,
            "bin_start": 41.6,
            "count": 0
           },
           {
            "bin_end": 50,
            "bin_start": 45.8,
            "count": 0
           },
           {
            "bin_end": 54.2,
            "bin_start": 50,
            "count": 0
           },
           {
            "bin_end": 58.400000000000006,
            "bin_start": 54.2,
            "count": 1
           },
           {
            "bin_end": 62.6,
            "bin_start": 58.400000000000006,
            "count": 1
           },
           {
            "bin_end": 66.80000000000001,
            "bin_start": 62.6,
            "count": 0
           },
           {
            "bin_end": 71,
            "bin_start": 66.80000000000001,
            "count": 1
           }
          ],
          "max": "71",
          "min": "29",
          "nan_count": 0,
          "unique_count": 5
         }
        },
        {
         "dtype": "object",
         "name": "label",
         "stats": {
          "categories": [
           {
            "count": 1,
            "name": "add_context_security_etcd"
           },
           {
            "count": 1,
            "name": "add_repository_security_mirror"
           },
           {
            "count": 3,
            "name": "3 others"
           }
          ],
          "nan_count": 0,
          "unique_count": 5
         }
        },
        {
         "dtype": "int64",
         "name": "_deepnote_index_column"
        }
       ],
       "row_count": 5,
       "rows": [
        {
         "_deepnote_index_column": 0,
         "label": "add_context_security_etcd",
         "label_st1": 29,
         "text": "Enable etcd with security setting Add etcd client/server certificate generation process in ansible playbook and restart etcd after etcd security config enabled Test status 1) Deployment test on both simplex and duplex - PASS check the communication status between apiserver and etcd by kubectl command check the etcd status and configuration on controllers 2) Switch active controller - PASS After switching_ check the communication status between apiserver and etcd by kubectl command check the etcd status and configuration on controllers 3) Lock/unlock of a simplex controller - PASS 4) Backup/Restore test on simplex - PASS 5) Spontaneous reboot of a simplex controller - PASS 6) Enable secured etcd on simplex by script after deploy unsecured etcd - PASS 7) Backup test on Duplex - PASS 8) Restore test on Duplex - PASS 9) Re-installing a controller host on a duplex setup and then swacting to it - PASS Partial-Bug: 1894870 Depends-on: https://reviewopendevorg/#/c/760508/ Change-Id: I88691b84…"
        },
        {
         "_deepnote_index_column": 1,
         "label": "add_repository_security_mirror",
         "label_st1": 55,
         "text": "Add new Debian security mirror suite pattern Starting with Debian 11 (bullseye)_ security packages are in bullseye-security as opposed to older releases like buster/updates List the last several stable releases in hopes nobody is trying to use this role to configure platforms older than Debian 8 (jessie_ the current \"oldoldstable\") A followup change demonstrates this works in the test-base-roles job_ but because the job matrices have to be updated in one fell swoop_ and many of those jobs won't work without this change already merged (due to protected use in our base job)_ it's not tested directly within this change Change-Id: Ib07269382ce379afc13f1702709a548ad829e663"
        },
        {
         "_deepnote_index_column": 2,
         "label": "allow_rule_security_policy",
         "label_st1": 71,
         "text": "Fix rule replacement in security policy Change-Id: I65918a003833dea45897d360ab7c3ce60616ec4c"
        },
        {
         "_deepnote_index_column": 3,
         "label": "adds_context_security_container",
         "label_st1": 32,
         "text": "OvS: Add pod security context to pods This PS adds the pod security context snippet to pods Change-Id: I91e89d7798f6e850e47901551c5dc7cf9d80c97f Signed-off-by: Pete Birley <pete@portdirect>"
        },
        {
         "_deepnote_index_column": 4,
         "label": "add_rule_security_group",
         "label_st1": 59,
         "text": "Horizon: update east-west network security policy This patch set updates the ingress network security policy for the Horizon service Change-Id: I0a580b5e4e14678f6abc14b58d8de5d3d6172c44"
        }
       ]
      },
      "text/html": [
       "<div>\n",
       "<style scoped>\n",
       "    .dataframe tbody tr th:only-of-type {\n",
       "        vertical-align: middle;\n",
       "    }\n",
       "\n",
       "    .dataframe tbody tr th {\n",
       "        vertical-align: top;\n",
       "    }\n",
       "\n",
       "    .dataframe thead th {\n",
       "        text-align: right;\n",
       "    }\n",
       "</style>\n",
       "<table border=\"1\" class=\"dataframe\">\n",
       "  <thead>\n",
       "    <tr style=\"text-align: right;\">\n",
       "      <th></th>\n",
       "      <th>text</th>\n",
       "      <th>label_st1</th>\n",
       "      <th>label</th>\n",
       "    </tr>\n",
       "  </thead>\n",
       "  <tbody>\n",
       "    <tr>\n",
       "      <th>0</th>\n",
       "      <td>Enable etcd with security setting Add etcd client/server certificate generation process in ansible playbook and restart etcd after etcd security config enabled Test status 1) Deployment test on both simplex and duplex - PASS check the communication status between apiserver and etcd by kubectl command check the etcd status and configuration on controllers 2) Switch active controller - PASS Afte...</td>\n",
       "      <td>29</td>\n",
       "      <td>add_context_security_etcd</td>\n",
       "    </tr>\n",
       "    <tr>\n",
       "      <th>1</th>\n",
       "      <td>Add new Debian security mirror suite pattern Starting with Debian 11 (bullseye)_ security packages are in bullseye-security as opposed to older releases like buster/updates List the last several stable releases in hopes nobody is trying to use this role to configure platforms older than Debian 8 (jessie_ the current \"oldoldstable\") A followup change demonstrates this works in the test-base-rol...</td>\n",
       "      <td>55</td>\n",
       "      <td>add_repository_security_mirror</td>\n",
       "    </tr>\n",
       "    <tr>\n",
       "      <th>2</th>\n",
       "      <td>Fix rule replacement in security policy Change-Id: I65918a003833dea45897d360ab7c3ce60616ec4c</td>\n",
       "      <td>71</td>\n",
       "      <td>allow_rule_security_policy</td>\n",
       "    </tr>\n",
       "    <tr>\n",
       "      <th>3</th>\n",
       "      <td>OvS: Add pod security context to pods This PS adds the pod security context snippet to pods Change-Id: I91e89d7798f6e850e47901551c5dc7cf9d80c97f Signed-off-by: Pete Birley &lt;pete@portdirect&gt;</td>\n",
       "      <td>32</td>\n",
       "      <td>adds_context_security_container</td>\n",
       "    </tr>\n",
       "    <tr>\n",
       "      <th>4</th>\n",
       "      <td>Horizon: update east-west network security policy This patch set updates the ingress network security policy for the Horizon service Change-Id: I0a580b5e4e14678f6abc14b58d8de5d3d6172c44</td>\n",
       "      <td>59</td>\n",
       "      <td>add_rule_security_group</td>\n",
       "    </tr>\n",
       "  </tbody>\n",
       "</table>\n",
       "</div>"
      ],
      "text/plain": [
       "                                                                                                                                                                                                                                                                                                                                                                                                              text  \\\n",
       "0  Enable etcd with security setting Add etcd client/server certificate generation process in ansible playbook and restart etcd after etcd security config enabled Test status 1) Deployment test on both simplex and duplex - PASS check the communication status between apiserver and etcd by kubectl command check the etcd status and configuration on controllers 2) Switch active controller - PASS Afte...   \n",
       "1  Add new Debian security mirror suite pattern Starting with Debian 11 (bullseye)_ security packages are in bullseye-security as opposed to older releases like buster/updates List the last several stable releases in hopes nobody is trying to use this role to configure platforms older than Debian 8 (jessie_ the current \"oldoldstable\") A followup change demonstrates this works in the test-base-rol...   \n",
       "2                                                                                                                                                                                                                                                                                                                     Fix rule replacement in security policy Change-Id: I65918a003833dea45897d360ab7c3ce60616ec4c   \n",
       "3                                                                                                                                                                                                                    OvS: Add pod security context to pods This PS adds the pod security context snippet to pods Change-Id: I91e89d7798f6e850e47901551c5dc7cf9d80c97f Signed-off-by: Pete Birley <pete@portdirect>   \n",
       "4                                                                                                                                                                                                                        Horizon: update east-west network security policy This patch set updates the ingress network security policy for the Horizon service Change-Id: I0a580b5e4e14678f6abc14b58d8de5d3d6172c44   \n",
       "\n",
       "   label_st1                            label  \n",
       "0         29        add_context_security_etcd  \n",
       "1         55   add_repository_security_mirror  \n",
       "2         71       allow_rule_security_policy  \n",
       "3         32  adds_context_security_container  \n",
       "4         59          add_rule_security_group  "
      ]
     },
     "execution_count": 17,
     "metadata": {},
     "output_type": "execute_result"
    }
   ],
   "source": [
    "labeled_docs.head()"
   ]
  },
  {
   "cell_type": "code",
   "execution_count": null,
   "metadata": {
    "cell_id": "1b9afbf1d1f146ee87c145af1d7018ba",
    "deepnote_cell_height": 424.796875,
    "deepnote_cell_type": "code",
    "deepnote_to_be_reexecuted": false,
    "execution_millis": 86,
    "execution_start": 1651703264022,
    "source_hash": "3fd567f1",
    "tags": []
   },
   "outputs": [
    {
     "data": {
      "application/vnd.deepnote.dataframe.v3+json": {
       "column_count": 9,
       "columns": [
        {
         "dtype": "object",
         "name": "Model",
         "stats": {
          "categories": [
           {
            "count": 1,
            "name": "st1"
           },
           {
            "count": 1,
            "name": "st2"
           },
           {
            "count": 2,
            "name": "2 others"
           }
          ],
          "nan_count": 0,
          "unique_count": 4
         }
        },
        {
         "dtype": "float64",
         "name": "ARI",
         "stats": {
          "histogram": [
           {
            "bin_end": 0.0639,
            "bin_start": 0.052,
            "count": 1
           },
           {
            "bin_end": 0.0758,
            "bin_start": 0.0639,
            "count": 0
           },
           {
            "bin_end": 0.0877,
            "bin_start": 0.0758,
            "count": 0
           },
           {
            "bin_end": 0.09960000000000001,
            "bin_start": 0.0877,
            "count": 0
           },
           {
            "bin_end": 0.11150000000000002,
            "bin_start": 0.09960000000000001,
            "count": 0
           },
           {
            "bin_end": 0.12340000000000001,
            "bin_start": 0.11150000000000002,
            "count": 1
           },
           {
            "bin_end": 0.1353,
            "bin_start": 0.12340000000000001,
            "count": 0
           },
           {
            "bin_end": 0.14720000000000003,
            "bin_start": 0.1353,
            "count": 1
           },
           {
            "bin_end": 0.15910000000000002,
            "bin_start": 0.14720000000000003,
            "count": 0
           },
           {
            "bin_end": 0.171,
            "bin_start": 0.15910000000000002,
            "count": 1
           }
          ],
          "max": "0.171",
          "min": "0.052",
          "nan_count": 0,
          "unique_count": 4
         }
        },
        {
         "dtype": "float64",
         "name": "NMI",
         "stats": {
          "histogram": [
           {
            "bin_end": 0.1909,
            "bin_start": 0.149,
            "count": 2
           },
           {
            "bin_end": 0.23279999999999998,
            "bin_start": 0.1909,
            "count": 0
           },
           {
            "bin_end": 0.27469999999999994,
            "bin_start": 0.23279999999999998,
            "count": 0
           },
           {
            "bin_end": 0.3166,
            "bin_start": 0.27469999999999994,
            "count": 1
           },
           {
            "bin_end": 0.35849999999999993,
            "bin_start": 0.3166,
            "count": 0
           },
           {
            "bin_end": 0.4004,
            "bin_start": 0.35849999999999993,
            "count": 0
           },
           {
            "bin_end": 0.4422999999999999,
            "bin_start": 0.4004,
            "count": 0
           },
           {
            "bin_end": 0.48419999999999996,
            "bin_start": 0.4422999999999999,
            "count": 0
           },
           {
            "bin_end": 0.5260999999999999,
            "bin_start": 0.48419999999999996,
            "count": 0
           },
           {
            "bin_end": 0.568,
            "bin_start": 0.5260999999999999,
            "count": 1
           }
          ],
          "max": "0.568",
          "min": "0.149",
          "nan_count": 0,
          "unique_count": 4
         }
        },
        {
         "dtype": "float64",
         "name": "loss",
         "stats": {
          "histogram": [
           {
            "bin_end": 0.16878861788617885,
            "bin_start": 0.1643089430894309,
            "count": 1
           },
           {
            "bin_end": 0.17326829268292682,
            "bin_start": 0.16878861788617885,
            "count": 0
           },
           {
            "bin_end": 0.1777479674796748,
            "bin_start": 0.17326829268292682,
            "count": 0
           },
           {
            "bin_end": 0.18222764227642277,
            "bin_start": 0.1777479674796748,
            "count": 2
           },
           {
            "bin_end": 0.18670731707317073,
            "bin_start": 0.18222764227642277,
            "count": 0
           },
           {
            "bin_end": 0.1911869918699187,
            "bin_start": 0.18670731707317073,
            "count": 0
           },
           {
            "bin_end": 0.19566666666666666,
            "bin_start": 0.1911869918699187,
            "count": 0
           },
           {
            "bin_end": 0.20014634146341465,
            "bin_start": 0.19566666666666666,
            "count": 0
           },
           {
            "bin_end": 0.2046260162601626,
            "bin_start": 0.20014634146341465,
            "count": 0
           },
           {
            "bin_end": 0.20910569105691057,
            "bin_start": 0.2046260162601626,
            "count": 1
           }
          ],
          "max": "0.20910569105691057",
          "min": "0.1643089430894309",
          "nan_count": 0,
          "unique_count": 4
         }
        },
        {
         "dtype": "int64",
         "name": "label_count",
         "stats": {
          "histogram": [
           {
            "bin_end": 12.6,
            "bin_start": 4,
            "count": 2
           },
           {
            "bin_end": 21.2,
            "bin_start": 12.6,
            "count": 0
           },
           {
            "bin_end": 29.799999999999997,
            "bin_start": 21.2,
            "count": 0
           },
           {
            "bin_end": 38.4,
            "bin_start": 29.799999999999997,
            "count": 0
           },
           {
            "bin_end": 47,
            "bin_start": 38.4,
            "count": 0
           },
           {
            "bin_end": 55.599999999999994,
            "bin_start": 47,
            "count": 0
           },
           {
            "bin_end": 64.19999999999999,
            "bin_start": 55.599999999999994,
            "count": 0
           },
           {
            "bin_end": 72.8,
            "bin_start": 64.19999999999999,
            "count": 0
           },
           {
            "bin_end": 81.39999999999999,
            "bin_start": 72.8,
            "count": 0
           },
           {
            "bin_end": 90,
            "bin_start": 81.39999999999999,
            "count": 2
           }
          ],
          "max": "90",
          "min": "4",
          "nan_count": 0,
          "unique_count": 3
         }
        },
        {
         "dtype": "int64",
         "name": "n_neighbors",
         "stats": {
          "histogram": [
           {
            "bin_end": 3.9,
            "bin_start": 3,
            "count": 1
           },
           {
            "bin_end": 4.8,
            "bin_start": 3.9,
            "count": 0
           },
           {
            "bin_end": 5.7,
            "bin_start": 4.8,
            "count": 0
           },
           {
            "bin_end": 6.6,
            "bin_start": 5.7,
            "count": 0
           },
           {
            "bin_end": 7.5,
            "bin_start": 6.6,
            "count": 0
           },
           {
            "bin_end": 8.4,
            "bin_start": 7.5,
            "count": 1
           },
           {
            "bin_end": 9.3,
            "bin_start": 8.4,
            "count": 1
           },
           {
            "bin_end": 10.2,
            "bin_start": 9.3,
            "count": 0
           },
           {
            "bin_end": 11.1,
            "bin_start": 10.2,
            "count": 0
           },
           {
            "bin_end": 12,
            "bin_start": 11.1,
            "count": 1
           }
          ],
          "max": "12",
          "min": "3",
          "nan_count": 0,
          "unique_count": 4
         }
        },
        {
         "dtype": "int64",
         "name": "n_components",
         "stats": {
          "histogram": [
           {
            "bin_end": 6.5,
            "bin_start": 6,
            "count": 1
           },
           {
            "bin_end": 7,
            "bin_start": 6.5,
            "count": 0
           },
           {
            "bin_end": 7.5,
            "bin_start": 7,
            "count": 1
           },
           {
            "bin_end": 8,
            "bin_start": 7.5,
            "count": 0
           },
           {
            "bin_end": 8.5,
            "bin_start": 8,
            "count": 1
           },
           {
            "bin_end": 9,
            "bin_start": 8.5,
            "count": 0
           },
           {
            "bin_end": 9.5,
            "bin_start": 9,
            "count": 0
           },
           {
            "bin_end": 10,
            "bin_start": 9.5,
            "count": 0
           },
           {
            "bin_end": 10.5,
            "bin_start": 10,
            "count": 0
           },
           {
            "bin_end": 11,
            "bin_start": 10.5,
            "count": 1
           }
          ],
          "max": "11",
          "min": "6",
          "nan_count": 0,
          "unique_count": 4
         }
        },
        {
         "dtype": "int64",
         "name": "min_cluster_size",
         "stats": {
          "histogram": [
           {
            "bin_end": 6.9,
            "bin_start": 6,
            "count": 1
           },
           {
            "bin_end": 7.8,
            "bin_start": 6.9,
            "count": 0
           },
           {
            "bin_end": 8.7,
            "bin_start": 7.8,
            "count": 1
           },
           {
            "bin_end": 9.6,
            "bin_start": 8.7,
            "count": 0
           },
           {
            "bin_end": 10.5,
            "bin_start": 9.6,
            "count": 0
           },
           {
            "bin_end": 11.4,
            "bin_start": 10.5,
            "count": 0
           },
           {
            "bin_end": 12.3,
            "bin_start": 11.4,
            "count": 0
           },
           {
            "bin_end": 13.2,
            "bin_start": 12.3,
            "count": 1
           },
           {
            "bin_end": 14.1,
            "bin_start": 13.2,
            "count": 0
           },
           {
            "bin_end": 15,
            "bin_start": 14.1,
            "count": 1
           }
          ],
          "max": "15",
          "min": "6",
          "nan_count": 0,
          "unique_count": 4
         }
        },
        {
         "dtype": "int64",
         "name": "random_state",
         "stats": {
          "histogram": [
           {
            "bin_end": 41.6,
            "bin_start": 41.5,
            "count": 0
           },
           {
            "bin_end": 41.7,
            "bin_start": 41.6,
            "count": 0
           },
           {
            "bin_end": 41.8,
            "bin_start": 41.7,
            "count": 0
           },
           {
            "bin_end": 41.9,
            "bin_start": 41.8,
            "count": 0
           },
           {
            "bin_end": 42,
            "bin_start": 41.9,
            "count": 0
           },
           {
            "bin_end": 42.1,
            "bin_start": 42,
            "count": 4
           },
           {
            "bin_end": 42.2,
            "bin_start": 42.1,
            "count": 0
           },
           {
            "bin_end": 42.3,
            "bin_start": 42.2,
            "count": 0
           },
           {
            "bin_end": 42.4,
            "bin_start": 42.3,
            "count": 0
           },
           {
            "bin_end": 42.5,
            "bin_start": 42.4,
            "count": 0
           }
          ],
          "max": "42",
          "min": "42",
          "nan_count": 0,
          "unique_count": 1
         }
        },
        {
         "dtype": "int64",
         "name": "_deepnote_index_column"
        }
       ],
       "row_count": 4,
       "rows": [
        {
         "ARI": 0.171,
         "Model": "st1",
         "NMI": 0.568,
         "_deepnote_index_column": 1,
         "label_count": 90,
         "loss": 0.1808130081300813,
         "min_cluster_size": 8,
         "n_components": 6,
         "n_neighbors": 3,
         "random_state": 42
        },
        {
         "ARI": 0.052,
         "Model": "st2",
         "NMI": 0.301,
         "_deepnote_index_column": 2,
         "label_count": 89,
         "loss": 0.20910569105691057,
         "min_cluster_size": 6,
         "n_components": 11,
         "n_neighbors": 12,
         "random_state": 42
        },
        {
         "ARI": 0.145,
         "Model": "st3",
         "NMI": 0.179,
         "_deepnote_index_column": 3,
         "label_count": 4,
         "loss": 0.17991869918699185,
         "min_cluster_size": 15,
         "n_components": 7,
         "n_neighbors": 8,
         "random_state": 42
        },
        {
         "ARI": 0.112,
         "Model": "use",
         "NMI": 0.149,
         "_deepnote_index_column": 0,
         "label_count": 4,
         "loss": 0.1643089430894309,
         "min_cluster_size": 13,
         "n_components": 8,
         "n_neighbors": 9,
         "random_state": 42
        }
       ]
      },
      "text/html": [
       "<div>\n",
       "<style scoped>\n",
       "    .dataframe tbody tr th:only-of-type {\n",
       "        vertical-align: middle;\n",
       "    }\n",
       "\n",
       "    .dataframe tbody tr th {\n",
       "        vertical-align: top;\n",
       "    }\n",
       "\n",
       "    .dataframe thead th {\n",
       "        text-align: right;\n",
       "    }\n",
       "</style>\n",
       "<table border=\"1\" class=\"dataframe\">\n",
       "  <thead>\n",
       "    <tr style=\"text-align: right;\">\n",
       "      <th></th>\n",
       "      <th>Model</th>\n",
       "      <th>ARI</th>\n",
       "      <th>NMI</th>\n",
       "      <th>loss</th>\n",
       "      <th>label_count</th>\n",
       "      <th>n_neighbors</th>\n",
       "      <th>n_components</th>\n",
       "      <th>min_cluster_size</th>\n",
       "      <th>random_state</th>\n",
       "    </tr>\n",
       "  </thead>\n",
       "  <tbody>\n",
       "    <tr>\n",
       "      <th>1</th>\n",
       "      <td>st1</td>\n",
       "      <td>0.171</td>\n",
       "      <td>0.568</td>\n",
       "      <td>0.180813</td>\n",
       "      <td>90</td>\n",
       "      <td>3</td>\n",
       "      <td>6</td>\n",
       "      <td>8</td>\n",
       "      <td>42</td>\n",
       "    </tr>\n",
       "    <tr>\n",
       "      <th>2</th>\n",
       "      <td>st2</td>\n",
       "      <td>0.052</td>\n",
       "      <td>0.301</td>\n",
       "      <td>0.209106</td>\n",
       "      <td>89</td>\n",
       "      <td>12</td>\n",
       "      <td>11</td>\n",
       "      <td>6</td>\n",
       "      <td>42</td>\n",
       "    </tr>\n",
       "    <tr>\n",
       "      <th>3</th>\n",
       "      <td>st3</td>\n",
       "      <td>0.145</td>\n",
       "      <td>0.179</td>\n",
       "      <td>0.179919</td>\n",
       "      <td>4</td>\n",
       "      <td>8</td>\n",
       "      <td>7</td>\n",
       "      <td>15</td>\n",
       "      <td>42</td>\n",
       "    </tr>\n",
       "    <tr>\n",
       "      <th>0</th>\n",
       "      <td>use</td>\n",
       "      <td>0.112</td>\n",
       "      <td>0.149</td>\n",
       "      <td>0.164309</td>\n",
       "      <td>4</td>\n",
       "      <td>9</td>\n",
       "      <td>8</td>\n",
       "      <td>13</td>\n",
       "      <td>42</td>\n",
       "    </tr>\n",
       "  </tbody>\n",
       "</table>\n",
       "</div>"
      ],
      "text/plain": [
       "  Model    ARI    NMI      loss  label_count  n_neighbors  n_components  \\\n",
       "1   st1  0.171  0.568  0.180813           90            3             6   \n",
       "2   st2  0.052  0.301  0.209106           89           12            11   \n",
       "3   st3  0.145  0.179  0.179919            4            8             7   \n",
       "0   use  0.112  0.149  0.164309            4            9             8   \n",
       "\n",
       "   min_cluster_size  random_state  \n",
       "1                 8            42  \n",
       "2                 6            42  \n",
       "3                15            42  \n",
       "0                13            42  "
      ]
     },
     "execution_count": 22,
     "metadata": {},
     "output_type": "execute_result"
    }
   ],
   "source": [
    "models = [model_use, model_st1, model_st2, model_st3]\n",
    "\n",
    "df_comparison, labeled_docs_all_models = chatintents.evaluate_models(data_sample_copy[['text', 'category']], models)\n",
    "df_comparison"
   ]
  },
  {
   "cell_type": "code",
   "execution_count": null,
   "metadata": {
    "cell_id": "f5e012c78ef74c269bb2df2f2046dc37",
    "deepnote_cell_type": "visualization",
    "deepnote_to_be_reexecuted": false,
    "deepnote_variable_name": "df_comparison",
    "deepnote_visualization_spec": {
     "$schema": "https://vega.github.io/schema/vega-lite/v4.json",
     "autosize": {
      "type": "fit"
     },
     "data": {
      "name": "placeholder"
     },
     "encoding": {
      "color": {
       "field": "",
       "scale": {
        "type": "linear",
        "zero": false
       },
       "sort": null,
       "type": "nominal"
      },
      "x": {
       "field": "Model",
       "scale": {
        "type": "linear",
        "zero": false
       },
       "sort": null,
       "type": "nominal"
      },
      "y": {
       "field": "ARI",
       "scale": {
        "type": "linear",
        "zero": true
       },
       "sort": null,
       "type": "quantitative"
      }
     },
     "height": 220,
     "mark": {
      "tooltip": {
       "content": "data"
      },
      "type": "bar"
     }
    },
    "execution_millis": 374,
    "execution_start": 1651703274797,
    "source_hash": "ca9213fe"
   },
   "outputs": [
    {
     "data": {
      "text/html": [
       "\n",
       "<div id=\"altair-viz-67309c1455db4cddbfb85530bbf8b33c\"></div>\n",
       "<script type=\"text/javascript\">\n",
       "  (function(spec, embedOpt){\n",
       "    let outputDiv = document.currentScript.previousElementSibling;\n",
       "    if (outputDiv.id !== \"altair-viz-67309c1455db4cddbfb85530bbf8b33c\") {\n",
       "      outputDiv = document.getElementById(\"altair-viz-67309c1455db4cddbfb85530bbf8b33c\");\n",
       "    }\n",
       "    const paths = {\n",
       "      \"vega\": \"https://cdn.jsdelivr.net/npm//vega@5?noext\",\n",
       "      \"vega-lib\": \"https://cdn.jsdelivr.net/npm//vega-lib?noext\",\n",
       "      \"vega-lite\": \"https://cdn.jsdelivr.net/npm//vega-lite@4.8.1?noext\",\n",
       "      \"vega-embed\": \"https://cdn.jsdelivr.net/npm//vega-embed@6?noext\",\n",
       "    };\n",
       "\n",
       "    function loadScript(lib) {\n",
       "      return new Promise(function(resolve, reject) {\n",
       "        var s = document.createElement('script');\n",
       "        s.src = paths[lib];\n",
       "        s.async = true;\n",
       "        s.onload = () => resolve(paths[lib]);\n",
       "        s.onerror = () => reject(`Error loading script: ${paths[lib]}`);\n",
       "        document.getElementsByTagName(\"head\")[0].appendChild(s);\n",
       "      });\n",
       "    }\n",
       "\n",
       "    function showError(err) {\n",
       "      outputDiv.innerHTML = `<div class=\"error\" style=\"color:red;\">${err}</div>`;\n",
       "      throw err;\n",
       "    }\n",
       "\n",
       "    function displayChart(vegaEmbed) {\n",
       "      vegaEmbed(outputDiv, spec, embedOpt)\n",
       "        .catch(err => showError(`Javascript Error: ${err.message}<br>This usually means there's a typo in your chart specification. See the javascript console for the full traceback.`));\n",
       "    }\n",
       "\n",
       "    if(typeof define === \"function\" && define.amd) {\n",
       "      requirejs.config({paths});\n",
       "      require([\"vega-embed\"], displayChart, err => showError(`Error loading script: ${err.message}`));\n",
       "    } else if (typeof vegaEmbed === \"function\") {\n",
       "      displayChart(vegaEmbed);\n",
       "    } else {\n",
       "      loadScript(\"vega\")\n",
       "        .then(() => loadScript(\"vega-lite\"))\n",
       "        .then(() => loadScript(\"vega-embed\"))\n",
       "        .catch(showError)\n",
       "        .then(() => displayChart(vegaEmbed));\n",
       "    }\n",
       "  })({\"config\": {\"view\": {\"continuousWidth\": 400, \"continuousHeight\": 300}, \"area\": {\"fill\": \"#51C0E9\"}, \"axis\": {\"labelFont\": \"Inter, sans-serif\", \"labelFontSize\": 12, \"labelFontWeight\": \"normal\", \"labelLimit\": 60, \"labelOverlap\": \"greedy\", \"titleFont\": \"Inter, sans-serif\", \"titleFontSize\": 12, \"titleFontWeight\": \"bold\"}, \"background\": \"#ffffff\", \"legend\": {\"labelFont\": \"Inter, sans-serif\", \"labelFontSize\": 12, \"titleFont\": \"Inter, sans-serif\", \"titleFontSize\": 12, \"titleFontWeight\": \"bold\"}, \"line\": {\"stroke\": \"#51C0E9\", \"strokeWidth\": 2}, \"rect\": {\"fill\": \"#51C0E9\"}, \"title\": {\"anchor\": \"start\", \"color\": \"#000000\", \"font\": \"Inter, sans-serif\", \"fontSize\": 22, \"fontWeight\": \"normal\"}}, \"data\": {\"name\": \"data-6accce06189a44663644d5a8856c52ac\"}, \"mark\": {\"type\": \"bar\", \"tooltip\": {\"content\": \"data\"}}, \"autosize\": {\"type\": \"fit\"}, \"encoding\": {\"color\": {\"type\": \"nominal\", \"field\": \"\", \"scale\": {\"type\": \"linear\", \"zero\": false}, \"sort\": null}, \"x\": {\"type\": \"nominal\", \"field\": \"Model\", \"scale\": {\"type\": \"linear\", \"zero\": false}, \"sort\": null}, \"y\": {\"type\": \"quantitative\", \"field\": \"ARI\", \"scale\": {\"type\": \"linear\", \"zero\": true}, \"sort\": null}}, \"height\": 300, \"width\": \"container\", \"$schema\": \"https://vega.github.io/schema/vega-lite/v4.json\", \"datasets\": {\"data-6accce06189a44663644d5a8856c52ac\": [{\"Model\": \"st1\", \"ARI\": 0.171, \"NMI\": 0.568, \"loss\": 0.1808130081300813, \"label_count\": 90, \"n_neighbors\": 3, \"n_components\": 6, \"min_cluster_size\": 8, \"random_state\": 42}, {\"Model\": \"st2\", \"ARI\": 0.052, \"NMI\": 0.301, \"loss\": 0.20910569105691057, \"label_count\": 89, \"n_neighbors\": 12, \"n_components\": 11, \"min_cluster_size\": 6, \"random_state\": 42}, {\"Model\": \"st3\", \"ARI\": 0.145, \"NMI\": 0.179, \"loss\": 0.17991869918699185, \"label_count\": 4, \"n_neighbors\": 8, \"n_components\": 7, \"min_cluster_size\": 15, \"random_state\": 42}, {\"Model\": \"use\", \"ARI\": 0.112, \"NMI\": 0.149, \"loss\": 0.1643089430894309, \"label_count\": 4, \"n_neighbors\": 9, \"n_components\": 8, \"min_cluster_size\": 13, \"random_state\": 42}]}}, {\"actions\": false, \"mode\": \"vega-lite\"});\n",
       "</script>"
      ],
      "text/plain": [
       "alt.Chart(...)"
      ]
     },
     "execution_count": 23,
     "metadata": {},
     "output_type": "execute_result"
    }
   ],
   "source": [
    "_deepnote_run_altair(df_comparison, \"\"\"{\"$schema\":\"https://vega.github.io/schema/vega-lite/v4.json\",\"mark\":{\"type\":\"bar\",\"tooltip\":{\"content\":\"data\"}},\"height\":220,\"autosize\":{\"type\":\"fit\"},\"data\":{\"name\":\"placeholder\"},\"encoding\":{\"x\":{\"field\":\"Model\",\"type\":\"nominal\",\"sort\":null,\"scale\":{\"type\":\"linear\",\"zero\":false}},\"y\":{\"field\":\"ARI\",\"type\":\"quantitative\",\"sort\":null,\"scale\":{\"type\":\"linear\",\"zero\":true}},\"color\":{\"field\":\"\",\"type\":\"nominal\",\"sort\":null,\"scale\":{\"type\":\"linear\",\"zero\":false}}}}\"\"\")"
   ]
  },
  {
   "cell_type": "code",
   "execution_count": null,
   "metadata": {
    "cell_id": "fd3e3f92a2484197ba0376eee4d90268",
    "deepnote_cell_height": 81,
    "deepnote_cell_type": "code",
    "deepnote_to_be_reexecuted": false,
    "execution_millis": 7,
    "execution_start": 1651703832930,
    "source_hash": "34bfad1d",
    "tags": []
   },
   "outputs": [],
   "source": [
    "df_comparison.to_csv(\"df_comparison.csv\")"
   ]
  },
  {
   "cell_type": "code",
   "execution_count": null,
   "metadata": {
    "cell_id": "abf625e2bf4f496fa88a21cf39746df7",
    "deepnote_cell_height": 395,
    "deepnote_cell_type": "code",
    "deepnote_to_be_reexecuted": false,
    "execution_millis": 46,
    "execution_start": 1651703429345,
    "owner_user_id": "fa9f9c9d-ff0e-4c1a-a209-8837b6d8990b",
    "source_hash": "771c6d40",
    "tags": []
   },
   "outputs": [
    {
     "data": {
      "application/vnd.deepnote.dataframe.v3+json": {
       "column_count": 6,
       "columns": [
        {
         "dtype": "object",
         "name": "text",
         "stats": {
          "categories": [
           {
            "count": 1,
            "name": "Fix response parameters table of \"List/Show security group\" Add following parameters to these tables \"security-group-rules\"_ \"tenant_id\" Change-Id: Ifcd396f793686a84bdd967f5b9be97416a06adf5 Closes-Bug: #1424929"
           },
           {
            "count": 1,
            "name": "add get single router and security group object method in nb_api Change-Id: I17870215c2cae288ef9fd72a92346d651b1b20be"
           },
           {
            "count": 3,
            "name": "3 others"
           }
          ],
          "nan_count": 0,
          "unique_count": 5
         }
        },
        {
         "dtype": "object",
         "name": "category",
         "stats": {
          "categories": [
           {
            "count": 3,
            "name": "add_security_group_policy"
           },
           {
            "count": 1,
            "name": "add_context_security_container"
           },
           {
            "count": 1,
            "name": "add_security_policy"
           }
          ],
          "nan_count": 0,
          "unique_count": 3
         }
        },
        {
         "dtype": "int64",
         "name": "label_use",
         "stats": {
          "histogram": [
           {
            "bin_end": -0.7,
            "bin_start": -1,
            "count": 1
           },
           {
            "bin_end": -0.4,
            "bin_start": -0.7,
            "count": 0
           },
           {
            "bin_end": -0.10000000000000009,
            "bin_start": -0.4,
            "count": 0
           },
           {
            "bin_end": 0.19999999999999996,
            "bin_start": -0.10000000000000009,
            "count": 0
           },
           {
            "bin_end": 0.5,
            "bin_start": 0.19999999999999996,
            "count": 0
           },
           {
            "bin_end": 0.7999999999999998,
            "bin_start": 0.5,
            "count": 0
           },
           {
            "bin_end": 1.1,
            "bin_start": 0.7999999999999998,
            "count": 0
           },
           {
            "bin_end": 1.4,
            "bin_start": 1.1,
            "count": 0
           },
           {
            "bin_end": 1.6999999999999997,
            "bin_start": 1.4,
            "count": 0
           },
           {
            "bin_end": 2,
            "bin_start": 1.6999999999999997,
            "count": 4
           }
          ],
          "max": "2",
          "min": "-1",
          "nan_count": 0,
          "unique_count": 2
         }
        },
        {
         "dtype": "int64",
         "name": "label_st1",
         "stats": {
          "histogram": [
           {
            "bin_end": 37,
            "bin_start": 32,
            "count": 1
           },
           {
            "bin_end": 42,
            "bin_start": 37,
            "count": 1
           },
           {
            "bin_end": 47,
            "bin_start": 42,
            "count": 0
           },
           {
            "bin_end": 52,
            "bin_start": 47,
            "count": 0
           },
           {
            "bin_end": 57,
            "bin_start": 52,
            "count": 1
           },
           {
            "bin_end": 62,
            "bin_start": 57,
            "count": 0
           },
           {
            "bin_end": 67,
            "bin_start": 62,
            "count": 0
           },
           {
            "bin_end": 72,
            "bin_start": 67,
            "count": 0
           },
           {
            "bin_end": 77,
            "bin_start": 72,
            "count": 0
           },
           {
            "bin_end": 82,
            "bin_start": 77,
            "count": 2
           }
          ],
          "max": "82",
          "min": "32",
          "nan_count": 0,
          "unique_count": 5
         }
        },
        {
         "dtype": "int64",
         "name": "label_st2",
         "stats": {
          "histogram": [
           {
            "bin_end": 7.5,
            "bin_start": -1,
            "count": 1
           },
           {
            "bin_end": 16,
            "bin_start": 7.5,
            "count": 0
           },
           {
            "bin_end": 24.5,
            "bin_start": 16,
            "count": 1
           },
           {
            "bin_end": 33,
            "bin_start": 24.5,
            "count": 1
           },
           {
            "bin_end": 41.5,
            "bin_start": 33,
            "count": 0
           },
           {
            "bin_end": 50,
            "bin_start": 41.5,
            "count": 0
           },
           {
            "bin_end": 58.5,
            "bin_start": 50,
            "count": 0
           },
           {
            "bin_end": 67,
            "bin_start": 58.5,
            "count": 0
           },
           {
            "bin_end": 75.5,
            "bin_start": 67,
            "count": 0
           },
           {
            "bin_end": 84,
            "bin_start": 75.5,
            "count": 2
           }
          ],
          "max": "84",
          "min": "-1",
          "nan_count": 0,
          "unique_count": 5
         }
        },
        {
         "dtype": "int64",
         "name": "label_st3",
         "stats": {
          "histogram": [
           {
            "bin_end": -0.7,
            "bin_start": -1,
            "count": 1
           },
           {
            "bin_end": -0.4,
            "bin_start": -0.7,
            "count": 0
           },
           {
            "bin_end": -0.10000000000000009,
            "bin_start": -0.4,
            "count": 0
           },
           {
            "bin_end": 0.19999999999999996,
            "bin_start": -0.10000000000000009,
            "count": 0
           },
           {
            "bin_end": 0.5,
            "bin_start": 0.19999999999999996,
            "count": 0
           },
           {
            "bin_end": 0.7999999999999998,
            "bin_start": 0.5,
            "count": 0
           },
           {
            "bin_end": 1.1,
            "bin_start": 0.7999999999999998,
            "count": 0
           },
           {
            "bin_end": 1.4,
            "bin_start": 1.1,
            "count": 0
           },
           {
            "bin_end": 1.6999999999999997,
            "bin_start": 1.4,
            "count": 0
           },
           {
            "bin_end": 2,
            "bin_start": 1.6999999999999997,
            "count": 4
           }
          ],
          "max": "2",
          "min": "-1",
          "nan_count": 0,
          "unique_count": 2
         }
        },
        {
         "dtype": "int64",
         "name": "_deepnote_index_column"
        }
       ],
       "row_count": 5,
       "rows": [
        {
         "_deepnote_index_column": 1863,
         "category": "add_security_group_policy",
         "label_st1": 41,
         "label_st2": 84,
         "label_st3": 2,
         "label_use": 2,
         "text": "Fix response parameters table of \"List/Show security group\" Add following parameters to these tables \"security-group-rules\"_ \"tenant_id\" Change-Id: Ifcd396f793686a84bdd967f5b9be97416a06adf5 Closes-Bug: #1424929"
        },
        {
         "_deepnote_index_column": 1406,
         "category": "add_security_group_policy",
         "label_st1": 82,
         "label_st2": -1,
         "label_st3": 2,
         "label_use": 2,
         "text": "add get single router and security group object method in nb_api Change-Id: I17870215c2cae288ef9fd72a92346d651b1b20be"
        },
        {
         "_deepnote_index_column": 456,
         "category": "add_security_group_policy",
         "label_st1": 80,
         "label_st2": 79,
         "label_st3": 2,
         "label_use": 2,
         "text": "hot resource security group example format change in latest devstack_ using previous example format doesn't work modify format to be list and dict format to sepcify security rules Change-Id: Ib07502e35d51ffa89d2cb6ebfbcc1120fa65ada4"
        },
        {
         "_deepnote_index_column": 270,
         "category": "add_context_security_container",
         "label_st1": 32,
         "label_st2": 18,
         "label_st3": -1,
         "label_use": -1,
         "text": "Improve security defenses at compile level This patch adds compiler flags to improve the security of STX code At the same time_ these patches fix warnings and compilation issues generated by new security flags The flags added are divided in the following categories: Stack execution protection: LDFLAGS=\"-z noexecstack\" Data relocation and protection (RELRO): LDLFAGS=\"-z relro -z now\" Stack-based Buffer Overrun Detection: CFLAGS=â€-fstack-protector-strongâ€ if using GCC 49 or newer Fortify source: CFLAGS=\"-O2 -D_FORTIFY_SOURCE=2\" Format string vulnerabilities: CFLAGS=\"-Wformat -Wformat-security\" Signed-off-by: Luis Botello <luisbotelloortega@intelcom> Reviewed-by: Erich Cordoba <erichcordobamalibran@intelcom> Victor Rodriguez <vmrod25@gmailcom> Sugested-by: Victor Rodriguez <vmrod25@gmailcom> Erich Cordoba <erichcordobamalibran@intelcom> Change-Id: Iee6bcf1b085dcd073da1eaa2617c2160f644453d"
        },
        {
         "_deepnote_index_column": 443,
         "category": "add_security_policy",
         "label_st1": 56,
         "label_st2": 32,
         "label_st3": 2,
         "label_use": 2,
         "text": "Adding Security Guide Meeting Adding new security-guide-meetingyaml to add our regular meeting at Mondays at 10am PST_ 1700 UTC in #openstack-meeting-alt Change-Id: I194cdbb16c0c2bcbb8ac30238d0311710640e105"
        }
       ]
      },
      "text/html": [
       "<div>\n",
       "<style scoped>\n",
       "    .dataframe tbody tr th:only-of-type {\n",
       "        vertical-align: middle;\n",
       "    }\n",
       "\n",
       "    .dataframe tbody tr th {\n",
       "        vertical-align: top;\n",
       "    }\n",
       "\n",
       "    .dataframe thead th {\n",
       "        text-align: right;\n",
       "    }\n",
       "</style>\n",
       "<table border=\"1\" class=\"dataframe\">\n",
       "  <thead>\n",
       "    <tr style=\"text-align: right;\">\n",
       "      <th></th>\n",
       "      <th>text</th>\n",
       "      <th>category</th>\n",
       "      <th>label_use</th>\n",
       "      <th>label_st1</th>\n",
       "      <th>label_st2</th>\n",
       "      <th>label_st3</th>\n",
       "    </tr>\n",
       "  </thead>\n",
       "  <tbody>\n",
       "    <tr>\n",
       "      <th>1863</th>\n",
       "      <td>Fix response parameters table of \"List/Show security group\" Add following parameters to these tables \"security-group-rules\"_ \"tenant_id\" Change-Id: Ifcd396f793686a84bdd967f5b9be97416a06adf5 Closes-Bug: #1424929</td>\n",
       "      <td>add_security_group_policy</td>\n",
       "      <td>2</td>\n",
       "      <td>41</td>\n",
       "      <td>84</td>\n",
       "      <td>2</td>\n",
       "    </tr>\n",
       "    <tr>\n",
       "      <th>1406</th>\n",
       "      <td>add get single router and security group object method in nb_api Change-Id: I17870215c2cae288ef9fd72a92346d651b1b20be</td>\n",
       "      <td>add_security_group_policy</td>\n",
       "      <td>2</td>\n",
       "      <td>82</td>\n",
       "      <td>-1</td>\n",
       "      <td>2</td>\n",
       "    </tr>\n",
       "    <tr>\n",
       "      <th>456</th>\n",
       "      <td>hot resource security group example format change in latest devstack_ using previous example format doesn't work modify format to be list and dict format to sepcify security rules Change-Id: Ib07502e35d51ffa89d2cb6ebfbcc1120fa65ada4</td>\n",
       "      <td>add_security_group_policy</td>\n",
       "      <td>2</td>\n",
       "      <td>80</td>\n",
       "      <td>79</td>\n",
       "      <td>2</td>\n",
       "    </tr>\n",
       "    <tr>\n",
       "      <th>270</th>\n",
       "      <td>Improve security defenses at compile level This patch adds compiler flags to improve the security of STX code At the same time_ these patches fix warnings and compilation issues generated by new security flags The flags added are divided in the following categories: Stack execution protection: LDFLAGS=\"-z noexecstack\" Data relocation and protection (RELRO): LDLFAGS=\"-z relro -z now\" Stack-base...</td>\n",
       "      <td>add_context_security_container</td>\n",
       "      <td>-1</td>\n",
       "      <td>32</td>\n",
       "      <td>18</td>\n",
       "      <td>-1</td>\n",
       "    </tr>\n",
       "    <tr>\n",
       "      <th>443</th>\n",
       "      <td>Adding Security Guide Meeting Adding new security-guide-meetingyaml to add our regular meeting at Mondays at 10am PST_ 1700 UTC in #openstack-meeting-alt Change-Id: I194cdbb16c0c2bcbb8ac30238d0311710640e105</td>\n",
       "      <td>add_security_policy</td>\n",
       "      <td>2</td>\n",
       "      <td>56</td>\n",
       "      <td>32</td>\n",
       "      <td>2</td>\n",
       "    </tr>\n",
       "  </tbody>\n",
       "</table>\n",
       "</div>"
      ],
      "text/plain": [
       "                                                                                                                                                                                                                                                                                                                                                                                                                 text  \\\n",
       "1863                                                                                                                                                                                               Fix response parameters table of \"List/Show security group\" Add following parameters to these tables \"security-group-rules\"_ \"tenant_id\" Change-Id: Ifcd396f793686a84bdd967f5b9be97416a06adf5 Closes-Bug: #1424929   \n",
       "1406                                                                                                                                                                                                                                                                                            add get single router and security group object method in nb_api Change-Id: I17870215c2cae288ef9fd72a92346d651b1b20be   \n",
       "456                                                                                                                                                                          hot resource security group example format change in latest devstack_ using previous example format doesn't work modify format to be list and dict format to sepcify security rules Change-Id: Ib07502e35d51ffa89d2cb6ebfbcc1120fa65ada4   \n",
       "270   Improve security defenses at compile level This patch adds compiler flags to improve the security of STX code At the same time_ these patches fix warnings and compilation issues generated by new security flags The flags added are divided in the following categories: Stack execution protection: LDFLAGS=\"-z noexecstack\" Data relocation and protection (RELRO): LDLFAGS=\"-z relro -z now\" Stack-base...   \n",
       "443                                                                                                                                                                                                    Adding Security Guide Meeting Adding new security-guide-meetingyaml to add our regular meeting at Mondays at 10am PST_ 1700 UTC in #openstack-meeting-alt Change-Id: I194cdbb16c0c2bcbb8ac30238d0311710640e105   \n",
       "\n",
       "                            category  label_use  label_st1  label_st2  \\\n",
       "1863       add_security_group_policy          2         41         84   \n",
       "1406       add_security_group_policy          2         82         -1   \n",
       "456        add_security_group_policy          2         80         79   \n",
       "270   add_context_security_container         -1         32         18   \n",
       "443              add_security_policy          2         56         32   \n",
       "\n",
       "      label_st3  \n",
       "1863          2  \n",
       "1406          2  \n",
       "456           2  \n",
       "270          -1  \n",
       "443           2  "
      ]
     },
     "execution_count": 24,
     "metadata": {},
     "output_type": "execute_result"
    }
   ],
   "source": [
    "labeled_docs_all_models.sample(5)"
   ]
  },
  {
   "cell_type": "code",
   "execution_count": null,
   "metadata": {
    "cell_id": "d3b0b880e5e24bb88d2f0348fa3037a1",
    "deepnote_cell_height": 81,
    "deepnote_cell_type": "code",
    "deepnote_to_be_reexecuted": false,
    "execution_millis": 36,
    "execution_start": 1651703591833,
    "source_hash": "185604ef",
    "tags": []
   },
   "outputs": [],
   "source": [
    "labeled_docs_all_models.to_csv(\"labeled_docs_all_models.csv\")"
   ]
  },
  {
   "cell_type": "code",
   "execution_count": null,
   "metadata": {
    "cell_id": "0832b1b9ab6f42409734f9f7a0d3d829",
    "deepnote_cell_height": 654,
    "deepnote_cell_type": "code",
    "deepnote_to_be_reexecuted": false,
    "execution_millis": 100,
    "execution_start": 1651703671332,
    "source_hash": "e8a58346",
    "tags": []
   },
   "outputs": [
    {
     "data": {
      "application/vnd.deepnote.dataframe.v3+json": {
       "column_count": 6,
       "columns": [
        {
         "dtype": "int64",
         "name": "label_st1",
         "stats": {
          "histogram": [
           {
            "bin_end": 7.9,
            "bin_start": -1,
            "count": 9
           },
           {
            "bin_end": 16.8,
            "bin_start": 7.9,
            "count": 9
           },
           {
            "bin_end": 25.700000000000003,
            "bin_start": 16.8,
            "count": 9
           },
           {
            "bin_end": 34.6,
            "bin_start": 25.700000000000003,
            "count": 9
           },
           {
            "bin_end": 43.5,
            "bin_start": 34.6,
            "count": 9
           },
           {
            "bin_end": 52.400000000000006,
            "bin_start": 43.5,
            "count": 9
           },
           {
            "bin_end": 61.300000000000004,
            "bin_start": 52.400000000000006,
            "count": 9
           },
           {
            "bin_end": 70.2,
            "bin_start": 61.300000000000004,
            "count": 9
           },
           {
            "bin_end": 79.10000000000001,
            "bin_start": 70.2,
            "count": 9
           },
           {
            "bin_end": 88,
            "bin_start": 79.10000000000001,
            "count": 9
           }
          ],
          "max": "88",
          "min": "-1",
          "nan_count": 0,
          "unique_count": 90
         }
        },
        {
         "dtype": "int64",
         "name": "count",
         "stats": {
          "histogram": [
           {
            "bin_end": 62.1,
            "bin_start": 8,
            "count": 82
           },
           {
            "bin_end": 116.2,
            "bin_start": 62.1,
            "count": 4
           },
           {
            "bin_end": 170.3,
            "bin_start": 116.2,
            "count": 0
           },
           {
            "bin_end": 224.4,
            "bin_start": 170.3,
            "count": 3
           },
           {
            "bin_end": 278.5,
            "bin_start": 224.4,
            "count": 0
           },
           {
            "bin_end": 332.6,
            "bin_start": 278.5,
            "count": 0
           },
           {
            "bin_end": 386.7,
            "bin_start": 332.6,
            "count": 0
           },
           {
            "bin_end": 440.8,
            "bin_start": 386.7,
            "count": 0
           },
           {
            "bin_end": 494.90000000000003,
            "bin_start": 440.8,
            "count": 0
           },
           {
            "bin_end": 549,
            "bin_start": 494.90000000000003,
            "count": 1
           }
          ],
          "max": "549",
          "min": "8",
          "nan_count": 0,
          "unique_count": 34
         }
        },
        {
         "dtype": "object",
         "name": "label",
         "stats": {
          "categories": [
           {
            "count": 6,
            "name": "add_id_security_group"
           },
           {
            "count": 5,
            "name": "add_group_security"
           },
           {
            "count": 79,
            "name": "73 others"
           }
          ],
          "nan_count": 0,
          "unique_count": 75
         }
        },
        {
         "dtype": "object",
         "name": "top_ground_category",
         "stats": {
          "categories": [
           {
            "count": 45,
            "name": "add_security_group_policy"
           },
           {
            "count": 18,
            "name": "add_security_policy"
           },
           {
            "count": 27,
            "name": "12 others"
           }
          ],
          "nan_count": 0,
          "unique_count": 14
         }
        },
        {
         "dtype": "int64",
         "name": "top_cat_count",
         "stats": {
          "histogram": [
           {
            "bin_end": 107.3,
            "bin_start": 8,
            "count": 73
           },
           {
            "bin_end": 206.6,
            "bin_start": 107.3,
            "count": 1
           },
           {
            "bin_end": 305.9,
            "bin_start": 206.6,
            "count": 10
           },
           {
            "bin_end": 405.2,
            "bin_start": 305.9,
            "count": 0
           },
           {
            "bin_end": 504.5,
            "bin_start": 405.2,
            "count": 0
           },
           {
            "bin_end": 603.8,
            "bin_start": 504.5,
            "count": 0
           },
           {
            "bin_end": 703.1,
            "bin_start": 603.8,
            "count": 0
           },
           {
            "bin_end": 802.4,
            "bin_start": 703.1,
            "count": 0
           },
           {
            "bin_end": 901.6999999999999,
            "bin_start": 802.4,
            "count": 0
           },
           {
            "bin_end": 1001,
            "bin_start": 901.6999999999999,
            "count": 6
           }
          ],
          "max": "1001",
          "min": "8",
          "nan_count": 0,
          "unique_count": 41
         }
        },
        {
         "dtype": "int64",
         "name": "perc_top_cat",
         "stats": {
          "histogram": [
           {
            "bin_end": 678.8,
            "bin_start": 100,
            "count": 80
           },
           {
            "bin_end": 1257.6,
            "bin_start": 678.8,
            "count": 3
           },
           {
            "bin_end": 1836.3999999999999,
            "bin_start": 1257.6,
            "count": 2
           },
           {
            "bin_end": 2415.2,
            "bin_start": 1836.3999999999999,
            "count": 1
           },
           {
            "bin_end": 2994,
            "bin_start": 2415.2,
            "count": 2
           },
           {
            "bin_end": 3572.7999999999997,
            "bin_start": 2994,
            "count": 0
           },
           {
            "bin_end": 4151.599999999999,
            "bin_start": 3572.7999999999997,
            "count": 0
           },
           {
            "bin_end": 4730.4,
            "bin_start": 4151.599999999999,
            "count": 0
           },
           {
            "bin_end": 5309.2,
            "bin_start": 4730.4,
            "count": 1
           },
           {
            "bin_end": 5888,
            "bin_start": 5309.2,
            "count": 1
           }
          ],
          "max": "5888",
          "min": "100",
          "nan_count": 0,
          "unique_count": 47
         }
        },
        {
         "dtype": "int64",
         "name": "_deepnote_index_column"
        }
       ],
       "row_count": 90,
       "rows": [
        {
         "_deepnote_index_column": 0,
         "count": 549,
         "label": "add_id_security_group",
         "label_st1": -1,
         "perc_top_cat": 182,
         "top_cat_count": 1001,
         "top_ground_category": "add_security_group_policy"
        },
        {
         "_deepnote_index_column": 1,
         "count": 190,
         "label": "add_rule_security_group",
         "label_st1": 59,
         "perc_top_cat": 123,
         "top_cat_count": 233,
         "top_ground_category": "add_security_group_policy"
        },
        {
         "_deepnote_index_column": 2,
         "count": 189,
         "label": "add_id_security_bug",
         "label_st1": 74,
         "perc_top_cat": 101,
         "top_cat_count": 191,
         "top_ground_category": "add_security_policy"
        },
        {
         "_deepnote_index_column": 3,
         "count": 182,
         "label": "adds_context_security_container",
         "label_st1": 32,
         "perc_top_cat": 119,
         "top_cat_count": 217,
         "top_ground_category": "add_context_security_container"
        },
        {
         "_deepnote_index_column": 4,
         "count": 100,
         "label": "add_test_security_group",
         "label_st1": 81,
         "perc_top_cat": 100,
         "top_cat_count": 100,
         "top_ground_category": "add_unit_test"
        },
        {
         "_deepnote_index_column": 5,
         "count": 69,
         "label": "nsx|p_id_security_group",
         "label_st1": 26,
         "perc_top_cat": 138,
         "top_cat_count": 95,
         "top_ground_category": "add_security_policy"
        },
        {
         "_deepnote_index_column": 6,
         "count": 68,
         "label": "add_id_security_group",
         "label_st1": 88,
         "perc_top_cat": 1472,
         "top_cat_count": 1001,
         "top_ground_category": "add_security_group_policy"
        },
        {
         "_deepnote_index_column": 7,
         "count": 64,
         "label": "add_group_security",
         "label_st1": 58,
         "perc_top_cat": 375,
         "top_cat_count": 240,
         "top_ground_category": "add_security_group_policy"
        },
        {
         "_deepnote_index_column": 8,
         "count": 62,
         "label": "add_id_security_group",
         "label_st1": 80,
         "perc_top_cat": 1615,
         "top_cat_count": 1001,
         "top_ground_category": "add_security_group_policy"
        },
        {
         "_deepnote_index_column": 9,
         "count": 60,
         "label": "add_group_security",
         "label_st1": 79,
         "perc_top_cat": 400,
         "top_cat_count": 240,
         "top_ground_category": "add_security_group_policy"
        }
       ]
      },
      "text/html": [
       "<div>\n",
       "<style scoped>\n",
       "    .dataframe tbody tr th:only-of-type {\n",
       "        vertical-align: middle;\n",
       "    }\n",
       "\n",
       "    .dataframe tbody tr th {\n",
       "        vertical-align: top;\n",
       "    }\n",
       "\n",
       "    .dataframe thead th {\n",
       "        text-align: right;\n",
       "    }\n",
       "</style>\n",
       "<table border=\"1\" class=\"dataframe\">\n",
       "  <thead>\n",
       "    <tr style=\"text-align: right;\">\n",
       "      <th></th>\n",
       "      <th>label_st1</th>\n",
       "      <th>count</th>\n",
       "      <th>label</th>\n",
       "      <th>top_ground_category</th>\n",
       "      <th>top_cat_count</th>\n",
       "      <th>perc_top_cat</th>\n",
       "    </tr>\n",
       "  </thead>\n",
       "  <tbody>\n",
       "    <tr>\n",
       "      <th>0</th>\n",
       "      <td>-1</td>\n",
       "      <td>549</td>\n",
       "      <td>add_id_security_group</td>\n",
       "      <td>add_security_group_policy</td>\n",
       "      <td>1001</td>\n",
       "      <td>182</td>\n",
       "    </tr>\n",
       "    <tr>\n",
       "      <th>1</th>\n",
       "      <td>59</td>\n",
       "      <td>190</td>\n",
       "      <td>add_rule_security_group</td>\n",
       "      <td>add_security_group_policy</td>\n",
       "      <td>233</td>\n",
       "      <td>123</td>\n",
       "    </tr>\n",
       "    <tr>\n",
       "      <th>2</th>\n",
       "      <td>74</td>\n",
       "      <td>189</td>\n",
       "      <td>add_id_security_bug</td>\n",
       "      <td>add_security_policy</td>\n",
       "      <td>191</td>\n",
       "      <td>101</td>\n",
       "    </tr>\n",
       "    <tr>\n",
       "      <th>3</th>\n",
       "      <td>32</td>\n",
       "      <td>182</td>\n",
       "      <td>adds_context_security_container</td>\n",
       "      <td>add_context_security_container</td>\n",
       "      <td>217</td>\n",
       "      <td>119</td>\n",
       "    </tr>\n",
       "    <tr>\n",
       "      <th>4</th>\n",
       "      <td>81</td>\n",
       "      <td>100</td>\n",
       "      <td>add_test_security_group</td>\n",
       "      <td>add_unit_test</td>\n",
       "      <td>100</td>\n",
       "      <td>100</td>\n",
       "    </tr>\n",
       "    <tr>\n",
       "      <th>5</th>\n",
       "      <td>26</td>\n",
       "      <td>69</td>\n",
       "      <td>nsx|p_id_security_group</td>\n",
       "      <td>add_security_policy</td>\n",
       "      <td>95</td>\n",
       "      <td>138</td>\n",
       "    </tr>\n",
       "    <tr>\n",
       "      <th>6</th>\n",
       "      <td>88</td>\n",
       "      <td>68</td>\n",
       "      <td>add_id_security_group</td>\n",
       "      <td>add_security_group_policy</td>\n",
       "      <td>1001</td>\n",
       "      <td>1472</td>\n",
       "    </tr>\n",
       "    <tr>\n",
       "      <th>7</th>\n",
       "      <td>58</td>\n",
       "      <td>64</td>\n",
       "      <td>add_group_security</td>\n",
       "      <td>add_security_group_policy</td>\n",
       "      <td>240</td>\n",
       "      <td>375</td>\n",
       "    </tr>\n",
       "    <tr>\n",
       "      <th>8</th>\n",
       "      <td>80</td>\n",
       "      <td>62</td>\n",
       "      <td>add_id_security_group</td>\n",
       "      <td>add_security_group_policy</td>\n",
       "      <td>1001</td>\n",
       "      <td>1615</td>\n",
       "    </tr>\n",
       "    <tr>\n",
       "      <th>9</th>\n",
       "      <td>79</td>\n",
       "      <td>60</td>\n",
       "      <td>add_group_security</td>\n",
       "      <td>add_security_group_policy</td>\n",
       "      <td>240</td>\n",
       "      <td>400</td>\n",
       "    </tr>\n",
       "    <tr>\n",
       "      <th>10</th>\n",
       "      <td>56</td>\n",
       "      <td>49</td>\n",
       "      <td>adds_id_security_bug</td>\n",
       "      <td>add_security_policy</td>\n",
       "      <td>49</td>\n",
       "      <td>100</td>\n",
       "    </tr>\n",
       "    <tr>\n",
       "      <th>11</th>\n",
       "      <td>35</td>\n",
       "      <td>49</td>\n",
       "      <td>add_group_security</td>\n",
       "      <td>add_security_group_policy</td>\n",
       "      <td>240</td>\n",
       "      <td>490</td>\n",
       "    </tr>\n",
       "    <tr>\n",
       "      <th>12</th>\n",
       "      <td>39</td>\n",
       "      <td>48</td>\n",
       "      <td>add_id_security_keystone</td>\n",
       "      <td>add_security_policy</td>\n",
       "      <td>54</td>\n",
       "      <td>112</td>\n",
       "    </tr>\n",
       "    <tr>\n",
       "      <th>13</th>\n",
       "      <td>22</td>\n",
       "      <td>39</td>\n",
       "      <td>use_id_security_runtime</td>\n",
       "      <td>add_security_policy</td>\n",
       "      <td>39</td>\n",
       "      <td>100</td>\n",
       "    </tr>\n",
       "    <tr>\n",
       "      <th>14</th>\n",
       "      <td>84</td>\n",
       "      <td>39</td>\n",
       "      <td>changed_group_security</td>\n",
       "      <td>add_security_group_policy</td>\n",
       "      <td>41</td>\n",
       "      <td>105</td>\n",
       "    </tr>\n",
       "    <tr>\n",
       "      <th>15</th>\n",
       "      <td>19</td>\n",
       "      <td>37</td>\n",
       "      <td>add_quota_security_group</td>\n",
       "      <td>add_security_group_policy</td>\n",
       "      <td>39</td>\n",
       "      <td>105</td>\n",
       "    </tr>\n",
       "    <tr>\n",
       "      <th>16</th>\n",
       "      <td>40</td>\n",
       "      <td>37</td>\n",
       "      <td>add_bandit_security</td>\n",
       "      <td>add_bandit_security</td>\n",
       "      <td>37</td>\n",
       "      <td>100</td>\n",
       "    </tr>\n",
       "    <tr>\n",
       "      <th>17</th>\n",
       "      <td>48</td>\n",
       "      <td>35</td>\n",
       "      <td>dnm_job_openstack</td>\n",
       "      <td>testing</td>\n",
       "      <td>35</td>\n",
       "      <td>100</td>\n",
       "    </tr>\n",
       "    <tr>\n",
       "      <th>18</th>\n",
       "      <td>69</td>\n",
       "      <td>34</td>\n",
       "      <td>adds_group_security</td>\n",
       "      <td>add_security_group_policy</td>\n",
       "      <td>45</td>\n",
       "      <td>132</td>\n",
       "    </tr>\n",
       "    <tr>\n",
       "      <th>19</th>\n",
       "      <td>82</td>\n",
       "      <td>34</td>\n",
       "      <td>add_group_security</td>\n",
       "      <td>add_security_group_policy</td>\n",
       "      <td>240</td>\n",
       "      <td>706</td>\n",
       "    </tr>\n",
       "    <tr>\n",
       "      <th>20</th>\n",
       "      <td>47</td>\n",
       "      <td>34</td>\n",
       "      <td>add_id_security_group</td>\n",
       "      <td>add_security_group_policy</td>\n",
       "      <td>1001</td>\n",
       "      <td>2944</td>\n",
       "    </tr>\n",
       "    <tr>\n",
       "      <th>21</th>\n",
       "      <td>37</td>\n",
       "      <td>31</td>\n",
       "      <td>commit_id_security_revert</td>\n",
       "      <td>revert_security_policy</td>\n",
       "      <td>41</td>\n",
       "      <td>132</td>\n",
       "    </tr>\n",
       "    <tr>\n",
       "      <th>22</th>\n",
       "      <td>52</td>\n",
       "      <td>31</td>\n",
       "      <td>dnm_id_test_change</td>\n",
       "      <td>testing</td>\n",
       "      <td>42</td>\n",
       "      <td>135</td>\n",
       "    </tr>\n",
       "    <tr>\n",
       "      <th>23</th>\n",
       "      <td>63</td>\n",
       "      <td>31</td>\n",
       "      <td>add_port_security_group</td>\n",
       "      <td>add_security_group_policy</td>\n",
       "      <td>31</td>\n",
       "      <td>100</td>\n",
       "    </tr>\n",
       "    <tr>\n",
       "      <th>24</th>\n",
       "      <td>46</td>\n",
       "      <td>30</td>\n",
       "      <td>add_service_security</td>\n",
       "      <td>add_service_security</td>\n",
       "      <td>32</td>\n",
       "      <td>107</td>\n",
       "    </tr>\n",
       "    <tr>\n",
       "      <th>25</th>\n",
       "      <td>61</td>\n",
       "      <td>30</td>\n",
       "      <td>adds_id_security_group</td>\n",
       "      <td>add_security_group_policy</td>\n",
       "      <td>30</td>\n",
       "      <td>100</td>\n",
       "    </tr>\n",
       "    <tr>\n",
       "      <th>26</th>\n",
       "      <td>53</td>\n",
       "      <td>27</td>\n",
       "      <td>add_id_security_image</td>\n",
       "      <td>add_security_policy</td>\n",
       "      <td>29</td>\n",
       "      <td>107</td>\n",
       "    </tr>\n",
       "    <tr>\n",
       "      <th>27</th>\n",
       "      <td>13</td>\n",
       "      <td>27</td>\n",
       "      <td>add_framework_security_proxy</td>\n",
       "      <td>add_unit_test</td>\n",
       "      <td>33</td>\n",
       "      <td>122</td>\n",
       "    </tr>\n",
       "    <tr>\n",
       "      <th>28</th>\n",
       "      <td>31</td>\n",
       "      <td>25</td>\n",
       "      <td>add_image_playbook_test</td>\n",
       "      <td>add_ansible_playbook</td>\n",
       "      <td>25</td>\n",
       "      <td>100</td>\n",
       "    </tr>\n",
       "    <tr>\n",
       "      <th>29</th>\n",
       "      <td>24</td>\n",
       "      <td>24</td>\n",
       "      <td>add_test_security</td>\n",
       "      <td>add_security_group_policy</td>\n",
       "      <td>24</td>\n",
       "      <td>100</td>\n",
       "    </tr>\n",
       "    <tr>\n",
       "      <th>30</th>\n",
       "      <td>33</td>\n",
       "      <td>24</td>\n",
       "      <td>use_role_security</td>\n",
       "      <td>add_security_policy</td>\n",
       "      <td>26</td>\n",
       "      <td>108</td>\n",
       "    </tr>\n",
       "    <tr>\n",
       "      <th>31</th>\n",
       "      <td>83</td>\n",
       "      <td>24</td>\n",
       "      <td>bug_id_security_group</td>\n",
       "      <td>add_security_group_policy</td>\n",
       "      <td>41</td>\n",
       "      <td>171</td>\n",
       "    </tr>\n",
       "    <tr>\n",
       "      <th>32</th>\n",
       "      <td>34</td>\n",
       "      <td>23</td>\n",
       "      <td>group_test_security</td>\n",
       "      <td>add_unit_test</td>\n",
       "      <td>23</td>\n",
       "      <td>100</td>\n",
       "    </tr>\n",
       "    <tr>\n",
       "      <th>33</th>\n",
       "      <td>73</td>\n",
       "      <td>23</td>\n",
       "      <td>commit_id_security_patch</td>\n",
       "      <td>add_security_policy</td>\n",
       "      <td>23</td>\n",
       "      <td>100</td>\n",
       "    </tr>\n",
       "    <tr>\n",
       "      <th>34</th>\n",
       "      <td>3</td>\n",
       "      <td>23</td>\n",
       "      <td>adds_context_security_container</td>\n",
       "      <td>add_context_security_container</td>\n",
       "      <td>217</td>\n",
       "      <td>943</td>\n",
       "    </tr>\n",
       "    <tr>\n",
       "      <th>35</th>\n",
       "      <td>55</td>\n",
       "      <td>22</td>\n",
       "      <td>add_repository_security_mirror</td>\n",
       "      <td>add_security_mirror_repository</td>\n",
       "      <td>26</td>\n",
       "      <td>118</td>\n",
       "    </tr>\n",
       "    <tr>\n",
       "      <th>36</th>\n",
       "      <td>18</td>\n",
       "      <td>22</td>\n",
       "      <td>avoid_table_security_group</td>\n",
       "      <td>improve_performance</td>\n",
       "      <td>24</td>\n",
       "      <td>109</td>\n",
       "    </tr>\n",
       "    <tr>\n",
       "      <th>37</th>\n",
       "      <td>25</td>\n",
       "      <td>22</td>\n",
       "      <td>set_address_router_security</td>\n",
       "      <td>add_security_group_policy</td>\n",
       "      <td>22</td>\n",
       "      <td>100</td>\n",
       "    </tr>\n",
       "    <tr>\n",
       "      <th>38</th>\n",
       "      <td>41</td>\n",
       "      <td>21</td>\n",
       "      <td>add_id_security_group</td>\n",
       "      <td>add_security_group_policy</td>\n",
       "      <td>1001</td>\n",
       "      <td>4767</td>\n",
       "    </tr>\n",
       "    <tr>\n",
       "      <th>39</th>\n",
       "      <td>12</td>\n",
       "      <td>21</td>\n",
       "      <td>add_group_security</td>\n",
       "      <td>add_security_group_policy</td>\n",
       "      <td>240</td>\n",
       "      <td>1143</td>\n",
       "    </tr>\n",
       "    <tr>\n",
       "      <th>40</th>\n",
       "      <td>29</td>\n",
       "      <td>17</td>\n",
       "      <td>add_context_security_etcd</td>\n",
       "      <td>add_context_security_etcd</td>\n",
       "      <td>17</td>\n",
       "      <td>100</td>\n",
       "    </tr>\n",
       "    <tr>\n",
       "      <th>41</th>\n",
       "      <td>15</td>\n",
       "      <td>17</td>\n",
       "      <td>master_order_branch_version</td>\n",
       "      <td>add_ci_cd_pipeline</td>\n",
       "      <td>17</td>\n",
       "      <td>100</td>\n",
       "    </tr>\n",
       "    <tr>\n",
       "      <th>42</th>\n",
       "      <td>27</td>\n",
       "      <td>17</td>\n",
       "      <td>fetch_patch_stx</td>\n",
       "      <td>add_ci_cd_pipeline</td>\n",
       "      <td>17</td>\n",
       "      <td>100</td>\n",
       "    </tr>\n",
       "    <tr>\n",
       "      <th>43</th>\n",
       "      <td>68</td>\n",
       "      <td>17</td>\n",
       "      <td>bug_id_security_group</td>\n",
       "      <td>add_security_group_policy</td>\n",
       "      <td>41</td>\n",
       "      <td>241</td>\n",
       "    </tr>\n",
       "    <tr>\n",
       "      <th>44</th>\n",
       "      <td>7</td>\n",
       "      <td>17</td>\n",
       "      <td>i5619f5e40d7c9a2ee7741bf4664c0d2d08963992_constraint_requirement_security</td>\n",
       "      <td>refactoring_codebase</td>\n",
       "      <td>47</td>\n",
       "      <td>276</td>\n",
       "    </tr>\n",
       "    <tr>\n",
       "      <th>45</th>\n",
       "      <td>57</td>\n",
       "      <td>17</td>\n",
       "      <td>speed_group_security</td>\n",
       "      <td>add_security_group_policy</td>\n",
       "      <td>17</td>\n",
       "      <td>100</td>\n",
       "    </tr>\n",
       "    <tr>\n",
       "      <th>46</th>\n",
       "      <td>78</td>\n",
       "      <td>17</td>\n",
       "      <td>add_id_security_group</td>\n",
       "      <td>add_security_group_policy</td>\n",
       "      <td>1001</td>\n",
       "      <td>5888</td>\n",
       "    </tr>\n",
       "    <tr>\n",
       "      <th>47</th>\n",
       "      <td>86</td>\n",
       "      <td>17</td>\n",
       "      <td>allow_group_security_default</td>\n",
       "      <td>add_security_group_policy</td>\n",
       "      <td>19</td>\n",
       "      <td>112</td>\n",
       "    </tr>\n",
       "    <tr>\n",
       "      <th>48</th>\n",
       "      <td>49</td>\n",
       "      <td>16</td>\n",
       "      <td>updates_id_sig_change</td>\n",
       "      <td>add_security_policy</td>\n",
       "      <td>16</td>\n",
       "      <td>100</td>\n",
       "    </tr>\n",
       "    <tr>\n",
       "      <th>49</th>\n",
       "      <td>45</td>\n",
       "      <td>16</td>\n",
       "      <td>adds_id_security_port</td>\n",
       "      <td>add_security_group_policy</td>\n",
       "      <td>16</td>\n",
       "      <td>100</td>\n",
       "    </tr>\n",
       "    <tr>\n",
       "      <th>50</th>\n",
       "      <td>8</td>\n",
       "      <td>16</td>\n",
       "      <td>updates_event_security_bug</td>\n",
       "      <td>add_security_policy</td>\n",
       "      <td>20</td>\n",
       "      <td>125</td>\n",
       "    </tr>\n",
       "    <tr>\n",
       "      <th>51</th>\n",
       "      <td>60</td>\n",
       "      <td>15</td>\n",
       "      <td>use_id_security_group</td>\n",
       "      <td>add_security_group_policy</td>\n",
       "      <td>17</td>\n",
       "      <td>113</td>\n",
       "    </tr>\n",
       "    <tr>\n",
       "      <th>52</th>\n",
       "      <td>70</td>\n",
       "      <td>15</td>\n",
       "      <td>context_use_security</td>\n",
       "      <td>add_security_policy</td>\n",
       "      <td>15</td>\n",
       "      <td>100</td>\n",
       "    </tr>\n",
       "    <tr>\n",
       "      <th>53</th>\n",
       "      <td>66</td>\n",
       "      <td>15</td>\n",
       "      <td>plugin_group_security</td>\n",
       "      <td>add_security_group_policy</td>\n",
       "      <td>15</td>\n",
       "      <td>100</td>\n",
       "    </tr>\n",
       "    <tr>\n",
       "      <th>54</th>\n",
       "      <td>14</td>\n",
       "      <td>14</td>\n",
       "      <td>update_centos_underscore_security</td>\n",
       "      <td>add_security_mirror_repository</td>\n",
       "      <td>16</td>\n",
       "      <td>114</td>\n",
       "    </tr>\n",
       "    <tr>\n",
       "      <th>55</th>\n",
       "      <td>85</td>\n",
       "      <td>14</td>\n",
       "      <td>add_group_security_project</td>\n",
       "      <td>add_security_group_policy</td>\n",
       "      <td>18</td>\n",
       "      <td>129</td>\n",
       "    </tr>\n",
       "    <tr>\n",
       "      <th>56</th>\n",
       "      <td>65</td>\n",
       "      <td>13</td>\n",
       "      <td>added_rule_security_group</td>\n",
       "      <td>add_security_group_policy</td>\n",
       "      <td>13</td>\n",
       "      <td>100</td>\n",
       "    </tr>\n",
       "    <tr>\n",
       "      <th>57</th>\n",
       "      <td>87</td>\n",
       "      <td>13</td>\n",
       "      <td>help_id_security_group</td>\n",
       "      <td>add_security_group_policy</td>\n",
       "      <td>15</td>\n",
       "      <td>115</td>\n",
       "    </tr>\n",
       "    <tr>\n",
       "      <th>58</th>\n",
       "      <td>71</td>\n",
       "      <td>13</td>\n",
       "      <td>allow_rule_security_policy</td>\n",
       "      <td>add_security_policy</td>\n",
       "      <td>13</td>\n",
       "      <td>100</td>\n",
       "    </tr>\n",
       "    <tr>\n",
       "      <th>59</th>\n",
       "      <td>77</td>\n",
       "      <td>13</td>\n",
       "      <td>consumes_def_port_security</td>\n",
       "      <td>add_security_policy</td>\n",
       "      <td>13</td>\n",
       "      <td>100</td>\n",
       "    </tr>\n",
       "    <tr>\n",
       "      <th>60</th>\n",
       "      <td>2</td>\n",
       "      <td>13</td>\n",
       "      <td>improve___security_group</td>\n",
       "      <td>add_security_group_policy</td>\n",
       "      <td>13</td>\n",
       "      <td>100</td>\n",
       "    </tr>\n",
       "    <tr>\n",
       "      <th>61</th>\n",
       "      <td>62</td>\n",
       "      <td>13</td>\n",
       "      <td>enable_driver_port_security</td>\n",
       "      <td>add_security_policy</td>\n",
       "      <td>13</td>\n",
       "      <td>100</td>\n",
       "    </tr>\n",
       "    <tr>\n",
       "      <th>62</th>\n",
       "      <td>1</td>\n",
       "      <td>12</td>\n",
       "      <td>add_id_bank_database</td>\n",
       "      <td>refactoring_codebase</td>\n",
       "      <td>12</td>\n",
       "      <td>100</td>\n",
       "    </tr>\n",
       "    <tr>\n",
       "      <th>63</th>\n",
       "      <td>6</td>\n",
       "      <td>12</td>\n",
       "      <td>update_id_policy_service</td>\n",
       "      <td>add_security_group_policy</td>\n",
       "      <td>18</td>\n",
       "      <td>150</td>\n",
       "    </tr>\n",
       "    <tr>\n",
       "      <th>64</th>\n",
       "      <td>54</td>\n",
       "      <td>12</td>\n",
       "      <td>try_group_security_default</td>\n",
       "      <td>add_security_group_policy</td>\n",
       "      <td>28</td>\n",
       "      <td>233</td>\n",
       "    </tr>\n",
       "    <tr>\n",
       "      <th>65</th>\n",
       "      <td>36</td>\n",
       "      <td>12</td>\n",
       "      <td>reduce_group_security_bug</td>\n",
       "      <td>add_security_group_policy</td>\n",
       "      <td>14</td>\n",
       "      <td>117</td>\n",
       "    </tr>\n",
       "    <tr>\n",
       "      <th>66</th>\n",
       "      <td>20</td>\n",
       "      <td>12</td>\n",
       "      <td>allow_space_security_group</td>\n",
       "      <td>add_security_group_policy</td>\n",
       "      <td>26</td>\n",
       "      <td>217</td>\n",
       "    </tr>\n",
       "    <tr>\n",
       "      <th>67</th>\n",
       "      <td>28</td>\n",
       "      <td>12</td>\n",
       "      <td>refactored_id_security_group</td>\n",
       "      <td>add_security_group_policy</td>\n",
       "      <td>12</td>\n",
       "      <td>100</td>\n",
       "    </tr>\n",
       "    <tr>\n",
       "      <th>68</th>\n",
       "      <td>44</td>\n",
       "      <td>12</td>\n",
       "      <td>merge_support_security_group</td>\n",
       "      <td>add_security_group_policy</td>\n",
       "      <td>12</td>\n",
       "      <td>100</td>\n",
       "    </tr>\n",
       "    <tr>\n",
       "      <th>69</th>\n",
       "      <td>51</td>\n",
       "      <td>11</td>\n",
       "      <td>dnm_id_test_change</td>\n",
       "      <td>testing</td>\n",
       "      <td>42</td>\n",
       "      <td>382</td>\n",
       "    </tr>\n",
       "    <tr>\n",
       "      <th>70</th>\n",
       "      <td>38</td>\n",
       "      <td>11</td>\n",
       "      <td>retry_creation_security_group</td>\n",
       "      <td>add_security_group_policy</td>\n",
       "      <td>11</td>\n",
       "      <td>100</td>\n",
       "    </tr>\n",
       "    <tr>\n",
       "      <th>71</th>\n",
       "      <td>72</td>\n",
       "      <td>11</td>\n",
       "      <td>needs_group_security</td>\n",
       "      <td>add_security_group_policy</td>\n",
       "      <td>11</td>\n",
       "      <td>100</td>\n",
       "    </tr>\n",
       "    <tr>\n",
       "      <th>72</th>\n",
       "      <td>10</td>\n",
       "      <td>11</td>\n",
       "      <td>field_rule_list_security</td>\n",
       "      <td>add_security_group_policy</td>\n",
       "      <td>19</td>\n",
       "      <td>173</td>\n",
       "    </tr>\n",
       "    <tr>\n",
       "      <th>73</th>\n",
       "      <td>64</td>\n",
       "      <td>11</td>\n",
       "      <td>adds_group_security</td>\n",
       "      <td>add_security_group_policy</td>\n",
       "      <td>45</td>\n",
       "      <td>409</td>\n",
       "    </tr>\n",
       "    <tr>\n",
       "      <th>74</th>\n",
       "      <td>43</td>\n",
       "      <td>11</td>\n",
       "      <td>add_group_security_test</td>\n",
       "      <td>add_unit_test</td>\n",
       "      <td>11</td>\n",
       "      <td>100</td>\n",
       "    </tr>\n",
       "    <tr>\n",
       "      <th>75</th>\n",
       "      <td>5</td>\n",
       "      <td>11</td>\n",
       "      <td>ensure_test_security_group</td>\n",
       "      <td>add_unit_test</td>\n",
       "      <td>35</td>\n",
       "      <td>318</td>\n",
       "    </tr>\n",
       "    <tr>\n",
       "      <th>76</th>\n",
       "      <td>42</td>\n",
       "      <td>10</td>\n",
       "      <td>tests_id_unit_test</td>\n",
       "      <td>add_unit_test</td>\n",
       "      <td>10</td>\n",
       "      <td>100</td>\n",
       "    </tr>\n",
       "    <tr>\n",
       "      <th>77</th>\n",
       "      <td>9</td>\n",
       "      <td>10</td>\n",
       "      <td>fix_size_volume_security</td>\n",
       "      <td>add_security_policy</td>\n",
       "      <td>10</td>\n",
       "      <td>100</td>\n",
       "    </tr>\n",
       "    <tr>\n",
       "      <th>78</th>\n",
       "      <td>30</td>\n",
       "      <td>10</td>\n",
       "      <td>adds_context_security_container</td>\n",
       "      <td>add_context_security_container</td>\n",
       "      <td>217</td>\n",
       "      <td>2170</td>\n",
       "    </tr>\n",
       "    <tr>\n",
       "      <th>79</th>\n",
       "      <td>16</td>\n",
       "      <td>10</td>\n",
       "      <td>introduced_version_change_microversion</td>\n",
       "      <td>refactoring_codebase</td>\n",
       "      <td>10</td>\n",
       "      <td>100</td>\n",
       "    </tr>\n",
       "    <tr>\n",
       "      <th>80</th>\n",
       "      <td>17</td>\n",
       "      <td>10</td>\n",
       "      <td>migration_id_security_port</td>\n",
       "      <td>add_security_policy</td>\n",
       "      <td>22</td>\n",
       "      <td>220</td>\n",
       "    </tr>\n",
       "    <tr>\n",
       "      <th>81</th>\n",
       "      <td>0</td>\n",
       "      <td>9</td>\n",
       "      <td>improve_rule_security</td>\n",
       "      <td>add_security_policy</td>\n",
       "      <td>27</td>\n",
       "      <td>300</td>\n",
       "    </tr>\n",
       "    <tr>\n",
       "      <th>82</th>\n",
       "      <td>11</td>\n",
       "      <td>9</td>\n",
       "      <td>adds_rule_security_group</td>\n",
       "      <td>add_security_group_policy</td>\n",
       "      <td>9</td>\n",
       "      <td>100</td>\n",
       "    </tr>\n",
       "    <tr>\n",
       "      <th>83</th>\n",
       "      <td>50</td>\n",
       "      <td>9</td>\n",
       "      <td>validates_group_security</td>\n",
       "      <td>add_security_group_policy</td>\n",
       "      <td>9</td>\n",
       "      <td>100</td>\n",
       "    </tr>\n",
       "    <tr>\n",
       "      <th>84</th>\n",
       "      <td>21</td>\n",
       "      <td>9</td>\n",
       "      <td>add_rule_security_group</td>\n",
       "      <td>add_security_group_policy</td>\n",
       "      <td>233</td>\n",
       "      <td>2589</td>\n",
       "    </tr>\n",
       "    <tr>\n",
       "      <th>85</th>\n",
       "      <td>23</td>\n",
       "      <td>9</td>\n",
       "      <td>rabbitmq_timeout_pacemaker_command</td>\n",
       "      <td>refactoring_codebase</td>\n",
       "      <td>9</td>\n",
       "      <td>100</td>\n",
       "    </tr>\n",
       "    <tr>\n",
       "      <th>86</th>\n",
       "      <td>75</td>\n",
       "      <td>9</td>\n",
       "      <td>revert_group_security</td>\n",
       "      <td>revert_security_policy</td>\n",
       "      <td>9</td>\n",
       "      <td>100</td>\n",
       "    </tr>\n",
       "    <tr>\n",
       "      <th>87</th>\n",
       "      <td>4</td>\n",
       "      <td>9</td>\n",
       "      <td>cdot_port_security_user</td>\n",
       "      <td>add_security_policy</td>\n",
       "      <td>13</td>\n",
       "      <td>144</td>\n",
       "    </tr>\n",
       "    <tr>\n",
       "      <th>88</th>\n",
       "      <td>67</td>\n",
       "      <td>9</td>\n",
       "      <td>rules_ovo_security_group</td>\n",
       "      <td>add_security_group_policy</td>\n",
       "      <td>9</td>\n",
       "      <td>100</td>\n",
       "    </tr>\n",
       "    <tr>\n",
       "      <th>89</th>\n",
       "      <td>76</td>\n",
       "      <td>8</td>\n",
       "      <td>includes_group_security</td>\n",
       "      <td>add_security_group_policy</td>\n",
       "      <td>8</td>\n",
       "      <td>100</td>\n",
       "    </tr>\n",
       "  </tbody>\n",
       "</table>\n",
       "</div>"
      ],
      "text/plain": [
       "    label_st1  count  \\\n",
       "0          -1    549   \n",
       "1          59    190   \n",
       "2          74    189   \n",
       "3          32    182   \n",
       "4          81    100   \n",
       "5          26     69   \n",
       "6          88     68   \n",
       "7          58     64   \n",
       "8          80     62   \n",
       "9          79     60   \n",
       "10         56     49   \n",
       "11         35     49   \n",
       "12         39     48   \n",
       "13         22     39   \n",
       "14         84     39   \n",
       "15         19     37   \n",
       "16         40     37   \n",
       "17         48     35   \n",
       "18         69     34   \n",
       "19         82     34   \n",
       "20         47     34   \n",
       "21         37     31   \n",
       "22         52     31   \n",
       "23         63     31   \n",
       "24         46     30   \n",
       "25         61     30   \n",
       "26         53     27   \n",
       "27         13     27   \n",
       "28         31     25   \n",
       "29         24     24   \n",
       "30         33     24   \n",
       "31         83     24   \n",
       "32         34     23   \n",
       "33         73     23   \n",
       "34          3     23   \n",
       "35         55     22   \n",
       "36         18     22   \n",
       "37         25     22   \n",
       "38         41     21   \n",
       "39         12     21   \n",
       "40         29     17   \n",
       "41         15     17   \n",
       "42         27     17   \n",
       "43         68     17   \n",
       "44          7     17   \n",
       "45         57     17   \n",
       "46         78     17   \n",
       "47         86     17   \n",
       "48         49     16   \n",
       "49         45     16   \n",
       "50          8     16   \n",
       "51         60     15   \n",
       "52         70     15   \n",
       "53         66     15   \n",
       "54         14     14   \n",
       "55         85     14   \n",
       "56         65     13   \n",
       "57         87     13   \n",
       "58         71     13   \n",
       "59         77     13   \n",
       "60          2     13   \n",
       "61         62     13   \n",
       "62          1     12   \n",
       "63          6     12   \n",
       "64         54     12   \n",
       "65         36     12   \n",
       "66         20     12   \n",
       "67         28     12   \n",
       "68         44     12   \n",
       "69         51     11   \n",
       "70         38     11   \n",
       "71         72     11   \n",
       "72         10     11   \n",
       "73         64     11   \n",
       "74         43     11   \n",
       "75          5     11   \n",
       "76         42     10   \n",
       "77          9     10   \n",
       "78         30     10   \n",
       "79         16     10   \n",
       "80         17     10   \n",
       "81          0      9   \n",
       "82         11      9   \n",
       "83         50      9   \n",
       "84         21      9   \n",
       "85         23      9   \n",
       "86         75      9   \n",
       "87          4      9   \n",
       "88         67      9   \n",
       "89         76      8   \n",
       "\n",
       "                                                                        label  \\\n",
       "0                                                       add_id_security_group   \n",
       "1                                                     add_rule_security_group   \n",
       "2                                                         add_id_security_bug   \n",
       "3                                             adds_context_security_container   \n",
       "4                                                     add_test_security_group   \n",
       "5                                                     nsx|p_id_security_group   \n",
       "6                                                       add_id_security_group   \n",
       "7                                                          add_group_security   \n",
       "8                                                       add_id_security_group   \n",
       "9                                                          add_group_security   \n",
       "10                                                       adds_id_security_bug   \n",
       "11                                                         add_group_security   \n",
       "12                                                   add_id_security_keystone   \n",
       "13                                                    use_id_security_runtime   \n",
       "14                                                     changed_group_security   \n",
       "15                                                   add_quota_security_group   \n",
       "16                                                        add_bandit_security   \n",
       "17                                                          dnm_job_openstack   \n",
       "18                                                        adds_group_security   \n",
       "19                                                         add_group_security   \n",
       "20                                                      add_id_security_group   \n",
       "21                                                  commit_id_security_revert   \n",
       "22                                                         dnm_id_test_change   \n",
       "23                                                    add_port_security_group   \n",
       "24                                                       add_service_security   \n",
       "25                                                     adds_id_security_group   \n",
       "26                                                      add_id_security_image   \n",
       "27                                               add_framework_security_proxy   \n",
       "28                                                    add_image_playbook_test   \n",
       "29                                                          add_test_security   \n",
       "30                                                          use_role_security   \n",
       "31                                                      bug_id_security_group   \n",
       "32                                                        group_test_security   \n",
       "33                                                   commit_id_security_patch   \n",
       "34                                            adds_context_security_container   \n",
       "35                                             add_repository_security_mirror   \n",
       "36                                                 avoid_table_security_group   \n",
       "37                                                set_address_router_security   \n",
       "38                                                      add_id_security_group   \n",
       "39                                                         add_group_security   \n",
       "40                                                  add_context_security_etcd   \n",
       "41                                                master_order_branch_version   \n",
       "42                                                            fetch_patch_stx   \n",
       "43                                                      bug_id_security_group   \n",
       "44  i5619f5e40d7c9a2ee7741bf4664c0d2d08963992_constraint_requirement_security   \n",
       "45                                                       speed_group_security   \n",
       "46                                                      add_id_security_group   \n",
       "47                                               allow_group_security_default   \n",
       "48                                                      updates_id_sig_change   \n",
       "49                                                      adds_id_security_port   \n",
       "50                                                 updates_event_security_bug   \n",
       "51                                                      use_id_security_group   \n",
       "52                                                       context_use_security   \n",
       "53                                                      plugin_group_security   \n",
       "54                                          update_centos_underscore_security   \n",
       "55                                                 add_group_security_project   \n",
       "56                                                  added_rule_security_group   \n",
       "57                                                     help_id_security_group   \n",
       "58                                                 allow_rule_security_policy   \n",
       "59                                                 consumes_def_port_security   \n",
       "60                                                   improve___security_group   \n",
       "61                                                enable_driver_port_security   \n",
       "62                                                       add_id_bank_database   \n",
       "63                                                   update_id_policy_service   \n",
       "64                                                 try_group_security_default   \n",
       "65                                                  reduce_group_security_bug   \n",
       "66                                                 allow_space_security_group   \n",
       "67                                               refactored_id_security_group   \n",
       "68                                               merge_support_security_group   \n",
       "69                                                         dnm_id_test_change   \n",
       "70                                              retry_creation_security_group   \n",
       "71                                                       needs_group_security   \n",
       "72                                                   field_rule_list_security   \n",
       "73                                                        adds_group_security   \n",
       "74                                                    add_group_security_test   \n",
       "75                                                 ensure_test_security_group   \n",
       "76                                                         tests_id_unit_test   \n",
       "77                                                   fix_size_volume_security   \n",
       "78                                            adds_context_security_container   \n",
       "79                                     introduced_version_change_microversion   \n",
       "80                                                 migration_id_security_port   \n",
       "81                                                      improve_rule_security   \n",
       "82                                                   adds_rule_security_group   \n",
       "83                                                   validates_group_security   \n",
       "84                                                    add_rule_security_group   \n",
       "85                                         rabbitmq_timeout_pacemaker_command   \n",
       "86                                                      revert_group_security   \n",
       "87                                                    cdot_port_security_user   \n",
       "88                                                   rules_ovo_security_group   \n",
       "89                                                    includes_group_security   \n",
       "\n",
       "               top_ground_category  top_cat_count  perc_top_cat  \n",
       "0        add_security_group_policy           1001           182  \n",
       "1        add_security_group_policy            233           123  \n",
       "2              add_security_policy            191           101  \n",
       "3   add_context_security_container            217           119  \n",
       "4                    add_unit_test            100           100  \n",
       "5              add_security_policy             95           138  \n",
       "6        add_security_group_policy           1001          1472  \n",
       "7        add_security_group_policy            240           375  \n",
       "8        add_security_group_policy           1001          1615  \n",
       "9        add_security_group_policy            240           400  \n",
       "10             add_security_policy             49           100  \n",
       "11       add_security_group_policy            240           490  \n",
       "12             add_security_policy             54           112  \n",
       "13             add_security_policy             39           100  \n",
       "14       add_security_group_policy             41           105  \n",
       "15       add_security_group_policy             39           105  \n",
       "16             add_bandit_security             37           100  \n",
       "17                         testing             35           100  \n",
       "18       add_security_group_policy             45           132  \n",
       "19       add_security_group_policy            240           706  \n",
       "20       add_security_group_policy           1001          2944  \n",
       "21          revert_security_policy             41           132  \n",
       "22                         testing             42           135  \n",
       "23       add_security_group_policy             31           100  \n",
       "24            add_service_security             32           107  \n",
       "25       add_security_group_policy             30           100  \n",
       "26             add_security_policy             29           107  \n",
       "27                   add_unit_test             33           122  \n",
       "28            add_ansible_playbook             25           100  \n",
       "29       add_security_group_policy             24           100  \n",
       "30             add_security_policy             26           108  \n",
       "31       add_security_group_policy             41           171  \n",
       "32                   add_unit_test             23           100  \n",
       "33             add_security_policy             23           100  \n",
       "34  add_context_security_container            217           943  \n",
       "35  add_security_mirror_repository             26           118  \n",
       "36             improve_performance             24           109  \n",
       "37       add_security_group_policy             22           100  \n",
       "38       add_security_group_policy           1001          4767  \n",
       "39       add_security_group_policy            240          1143  \n",
       "40       add_context_security_etcd             17           100  \n",
       "41              add_ci_cd_pipeline             17           100  \n",
       "42              add_ci_cd_pipeline             17           100  \n",
       "43       add_security_group_policy             41           241  \n",
       "44            refactoring_codebase             47           276  \n",
       "45       add_security_group_policy             17           100  \n",
       "46       add_security_group_policy           1001          5888  \n",
       "47       add_security_group_policy             19           112  \n",
       "48             add_security_policy             16           100  \n",
       "49       add_security_group_policy             16           100  \n",
       "50             add_security_policy             20           125  \n",
       "51       add_security_group_policy             17           113  \n",
       "52             add_security_policy             15           100  \n",
       "53       add_security_group_policy             15           100  \n",
       "54  add_security_mirror_repository             16           114  \n",
       "55       add_security_group_policy             18           129  \n",
       "56       add_security_group_policy             13           100  \n",
       "57       add_security_group_policy             15           115  \n",
       "58             add_security_policy             13           100  \n",
       "59             add_security_policy             13           100  \n",
       "60       add_security_group_policy             13           100  \n",
       "61             add_security_policy             13           100  \n",
       "62            refactoring_codebase             12           100  \n",
       "63       add_security_group_policy             18           150  \n",
       "64       add_security_group_policy             28           233  \n",
       "65       add_security_group_policy             14           117  \n",
       "66       add_security_group_policy             26           217  \n",
       "67       add_security_group_policy             12           100  \n",
       "68       add_security_group_policy             12           100  \n",
       "69                         testing             42           382  \n",
       "70       add_security_group_policy             11           100  \n",
       "71       add_security_group_policy             11           100  \n",
       "72       add_security_group_policy             19           173  \n",
       "73       add_security_group_policy             45           409  \n",
       "74                   add_unit_test             11           100  \n",
       "75                   add_unit_test             35           318  \n",
       "76                   add_unit_test             10           100  \n",
       "77             add_security_policy             10           100  \n",
       "78  add_context_security_container            217          2170  \n",
       "79            refactoring_codebase             10           100  \n",
       "80             add_security_policy             22           220  \n",
       "81             add_security_policy             27           300  \n",
       "82       add_security_group_policy              9           100  \n",
       "83       add_security_group_policy              9           100  \n",
       "84       add_security_group_policy            233          2589  \n",
       "85            refactoring_codebase              9           100  \n",
       "86          revert_security_policy              9           100  \n",
       "87             add_security_policy             13           144  \n",
       "88       add_security_group_policy              9           100  \n",
       "89       add_security_group_policy              8           100  "
      ]
     },
     "execution_count": 30,
     "metadata": {},
     "output_type": "execute_result"
    }
   ],
   "source": [
    "chatintents.top_cluster_category(labeled_docs, \n",
    "                                 data_sample_copy[['text', 'category']], \n",
    "                                 'text',\n",
    "                                 df_summary)"
   ]
  },
  {
   "cell_type": "code",
   "execution_count": null,
   "metadata": {
    "cell_id": "a5016ed733ba4413bf9ed9693f2efbcc",
    "deepnote_cell_height": 135,
    "deepnote_cell_type": "code",
    "deepnote_to_be_reexecuted": false,
    "execution_millis": 75,
    "execution_start": 1651703518778,
    "source_hash": "e0665c29",
    "tags": []
   },
   "outputs": [],
   "source": [
    "df_results = chatintents.top_cluster_category(labeled_docs, \n",
    "                                 data_sample_copy[['text', 'category']], \n",
    "                                 'text',\n",
    "                                 df_summary)"
   ]
  },
  {
   "cell_type": "code",
   "execution_count": null,
   "metadata": {
    "cell_id": "a088cc48e02b490e910fac1224eeeee1",
    "deepnote_cell_height": 395,
    "deepnote_cell_type": "code",
    "deepnote_to_be_reexecuted": false,
    "execution_millis": 12,
    "execution_start": 1651703528784,
    "source_hash": "dced3d44",
    "tags": []
   },
   "outputs": [
    {
     "data": {
      "application/vnd.deepnote.dataframe.v3+json": {
       "column_count": 6,
       "columns": [
        {
         "dtype": "int64",
         "name": "label_st1",
         "stats": {
          "histogram": [
           {
            "bin_end": 7.199999999999999,
            "bin_start": -1,
            "count": 1
           },
           {
            "bin_end": 15.399999999999999,
            "bin_start": 7.199999999999999,
            "count": 0
           },
           {
            "bin_end": 23.599999999999998,
            "bin_start": 15.399999999999999,
            "count": 0
           },
           {
            "bin_end": 31.799999999999997,
            "bin_start": 23.599999999999998,
            "count": 0
           },
           {
            "bin_end": 40,
            "bin_start": 31.799999999999997,
            "count": 1
           },
           {
            "bin_end": 48.199999999999996,
            "bin_start": 40,
            "count": 0
           },
           {
            "bin_end": 56.39999999999999,
            "bin_start": 48.199999999999996,
            "count": 0
           },
           {
            "bin_end": 64.6,
            "bin_start": 56.39999999999999,
            "count": 1
           },
           {
            "bin_end": 72.8,
            "bin_start": 64.6,
            "count": 0
           },
           {
            "bin_end": 81,
            "bin_start": 72.8,
            "count": 2
           }
          ],
          "max": "81",
          "min": "-1",
          "nan_count": 0,
          "unique_count": 5
         }
        },
        {
         "dtype": "int64",
         "name": "count",
         "stats": {
          "histogram": [
           {
            "bin_end": 144.9,
            "bin_start": 100,
            "count": 1
           },
           {
            "bin_end": 189.8,
            "bin_start": 144.9,
            "count": 2
           },
           {
            "bin_end": 234.7,
            "bin_start": 189.8,
            "count": 1
           },
           {
            "bin_end": 279.6,
            "bin_start": 234.7,
            "count": 0
           },
           {
            "bin_end": 324.5,
            "bin_start": 279.6,
            "count": 0
           },
           {
            "bin_end": 369.4,
            "bin_start": 324.5,
            "count": 0
           },
           {
            "bin_end": 414.3,
            "bin_start": 369.4,
            "count": 0
           },
           {
            "bin_end": 459.2,
            "bin_start": 414.3,
            "count": 0
           },
           {
            "bin_end": 504.09999999999997,
            "bin_start": 459.2,
            "count": 0
           },
           {
            "bin_end": 549,
            "bin_start": 504.09999999999997,
            "count": 1
           }
          ],
          "max": "549",
          "min": "100",
          "nan_count": 0,
          "unique_count": 5
         }
        },
        {
         "dtype": "object",
         "name": "label",
         "stats": {
          "categories": [
           {
            "count": 1,
            "name": "add_id_security_group"
           },
           {
            "count": 1,
            "name": "add_rule_security_group"
           },
           {
            "count": 3,
            "name": "3 others"
           }
          ],
          "nan_count": 0,
          "unique_count": 5
         }
        },
        {
         "dtype": "object",
         "name": "top_ground_category",
         "stats": {
          "categories": [
           {
            "count": 2,
            "name": "add_security_group_policy"
           },
           {
            "count": 1,
            "name": "add_security_policy"
           },
           {
            "count": 2,
            "name": "2 others"
           }
          ],
          "nan_count": 0,
          "unique_count": 4
         }
        },
        {
         "dtype": "int64",
         "name": "top_cat_count",
         "stats": {
          "histogram": [
           {
            "bin_end": 190.1,
            "bin_start": 100,
            "count": 1
           },
           {
            "bin_end": 280.2,
            "bin_start": 190.1,
            "count": 3
           },
           {
            "bin_end": 370.29999999999995,
            "bin_start": 280.2,
            "count": 0
           },
           {
            "bin_end": 460.4,
            "bin_start": 370.29999999999995,
            "count": 0
           },
           {
            "bin_end": 550.5,
            "bin_start": 460.4,
            "count": 0
           },
           {
            "bin_end": 640.5999999999999,
            "bin_start": 550.5,
            "count": 0
           },
           {
            "bin_end": 730.6999999999999,
            "bin_start": 640.5999999999999,
            "count": 0
           },
           {
            "bin_end": 820.8,
            "bin_start": 730.6999999999999,
            "count": 0
           },
           {
            "bin_end": 910.9,
            "bin_start": 820.8,
            "count": 0
           },
           {
            "bin_end": 1001,
            "bin_start": 910.9,
            "count": 1
           }
          ],
          "max": "1001",
          "min": "100",
          "nan_count": 0,
          "unique_count": 5
         }
        },
        {
         "dtype": "int64",
         "name": "perc_top_cat",
         "stats": {
          "histogram": [
           {
            "bin_end": 108.2,
            "bin_start": 100,
            "count": 2
           },
           {
            "bin_end": 116.4,
            "bin_start": 108.2,
            "count": 0
           },
           {
            "bin_end": 124.6,
            "bin_start": 116.4,
            "count": 2
           },
           {
            "bin_end": 132.8,
            "bin_start": 124.6,
            "count": 0
           },
           {
            "bin_end": 141,
            "bin_start": 132.8,
            "count": 0
           },
           {
            "bin_end": 149.2,
            "bin_start": 141,
            "count": 0
           },
           {
            "bin_end": 157.39999999999998,
            "bin_start": 149.2,
            "count": 0
           },
           {
            "bin_end": 165.6,
            "bin_start": 157.39999999999998,
            "count": 0
           },
           {
            "bin_end": 173.8,
            "bin_start": 165.6,
            "count": 0
           },
           {
            "bin_end": 182,
            "bin_start": 173.8,
            "count": 1
           }
          ],
          "max": "182",
          "min": "100",
          "nan_count": 0,
          "unique_count": 5
         }
        },
        {
         "dtype": "int64",
         "name": "_deepnote_index_column"
        }
       ],
       "row_count": 5,
       "rows": [
        {
         "_deepnote_index_column": 0,
         "count": 549,
         "label": "add_id_security_group",
         "label_st1": -1,
         "perc_top_cat": 182,
         "top_cat_count": 1001,
         "top_ground_category": "add_security_group_policy"
        },
        {
         "_deepnote_index_column": 1,
         "count": 190,
         "label": "add_rule_security_group",
         "label_st1": 59,
         "perc_top_cat": 123,
         "top_cat_count": 233,
         "top_ground_category": "add_security_group_policy"
        },
        {
         "_deepnote_index_column": 2,
         "count": 189,
         "label": "add_id_security_bug",
         "label_st1": 74,
         "perc_top_cat": 101,
         "top_cat_count": 191,
         "top_ground_category": "add_security_policy"
        },
        {
         "_deepnote_index_column": 3,
         "count": 182,
         "label": "adds_context_security_container",
         "label_st1": 32,
         "perc_top_cat": 119,
         "top_cat_count": 217,
         "top_ground_category": "add_context_security_container"
        },
        {
         "_deepnote_index_column": 4,
         "count": 100,
         "label": "add_test_security_group",
         "label_st1": 81,
         "perc_top_cat": 100,
         "top_cat_count": 100,
         "top_ground_category": "add_unit_test"
        }
       ]
      },
      "text/html": [
       "<div>\n",
       "<style scoped>\n",
       "    .dataframe tbody tr th:only-of-type {\n",
       "        vertical-align: middle;\n",
       "    }\n",
       "\n",
       "    .dataframe tbody tr th {\n",
       "        vertical-align: top;\n",
       "    }\n",
       "\n",
       "    .dataframe thead th {\n",
       "        text-align: right;\n",
       "    }\n",
       "</style>\n",
       "<table border=\"1\" class=\"dataframe\">\n",
       "  <thead>\n",
       "    <tr style=\"text-align: right;\">\n",
       "      <th></th>\n",
       "      <th>label_st1</th>\n",
       "      <th>count</th>\n",
       "      <th>label</th>\n",
       "      <th>top_ground_category</th>\n",
       "      <th>top_cat_count</th>\n",
       "      <th>perc_top_cat</th>\n",
       "    </tr>\n",
       "  </thead>\n",
       "  <tbody>\n",
       "    <tr>\n",
       "      <th>0</th>\n",
       "      <td>-1</td>\n",
       "      <td>549</td>\n",
       "      <td>add_id_security_group</td>\n",
       "      <td>add_security_group_policy</td>\n",
       "      <td>1001</td>\n",
       "      <td>182</td>\n",
       "    </tr>\n",
       "    <tr>\n",
       "      <th>1</th>\n",
       "      <td>59</td>\n",
       "      <td>190</td>\n",
       "      <td>add_rule_security_group</td>\n",
       "      <td>add_security_group_policy</td>\n",
       "      <td>233</td>\n",
       "      <td>123</td>\n",
       "    </tr>\n",
       "    <tr>\n",
       "      <th>2</th>\n",
       "      <td>74</td>\n",
       "      <td>189</td>\n",
       "      <td>add_id_security_bug</td>\n",
       "      <td>add_security_policy</td>\n",
       "      <td>191</td>\n",
       "      <td>101</td>\n",
       "    </tr>\n",
       "    <tr>\n",
       "      <th>3</th>\n",
       "      <td>32</td>\n",
       "      <td>182</td>\n",
       "      <td>adds_context_security_container</td>\n",
       "      <td>add_context_security_container</td>\n",
       "      <td>217</td>\n",
       "      <td>119</td>\n",
       "    </tr>\n",
       "    <tr>\n",
       "      <th>4</th>\n",
       "      <td>81</td>\n",
       "      <td>100</td>\n",
       "      <td>add_test_security_group</td>\n",
       "      <td>add_unit_test</td>\n",
       "      <td>100</td>\n",
       "      <td>100</td>\n",
       "    </tr>\n",
       "  </tbody>\n",
       "</table>\n",
       "</div>"
      ],
      "text/plain": [
       "   label_st1  count                            label  \\\n",
       "0         -1    549            add_id_security_group   \n",
       "1         59    190          add_rule_security_group   \n",
       "2         74    189              add_id_security_bug   \n",
       "3         32    182  adds_context_security_container   \n",
       "4         81    100          add_test_security_group   \n",
       "\n",
       "              top_ground_category  top_cat_count  perc_top_cat  \n",
       "0       add_security_group_policy           1001           182  \n",
       "1       add_security_group_policy            233           123  \n",
       "2             add_security_policy            191           101  \n",
       "3  add_context_security_container            217           119  \n",
       "4                   add_unit_test            100           100  "
      ]
     },
     "execution_count": 27,
     "metadata": {},
     "output_type": "execute_result"
    }
   ],
   "source": [
    "df_results.head()"
   ]
  },
  {
   "cell_type": "code",
   "execution_count": null,
   "metadata": {
    "cell_id": "567030961017495bbc652b5a59bae273",
    "deepnote_cell_height": 81,
    "deepnote_cell_type": "code",
    "deepnote_to_be_reexecuted": false,
    "execution_millis": 2,
    "execution_start": 1651703613004,
    "source_hash": "f111195f",
    "tags": []
   },
   "outputs": [],
   "source": [
    "df_results.to_csv(\"df_results.csv\")"
   ]
  },
  {
   "cell_type": "code",
   "execution_count": null,
   "metadata": {
    "cell_id": "7814044b4ae34487a7debe2f17bf07ff",
    "deepnote_cell_height": 66,
    "deepnote_cell_type": "code",
    "tags": []
   },
   "outputs": [],
   "source": []
  },
  {
   "cell_type": "markdown",
   "metadata": {
    "created_in_deepnote_cell": true,
    "deepnote_cell_type": "markdown",
    "tags": []
   },
   "source": [
    "<a style='text-decoration:none;line-height:16px;display:flex;color:#5B5B62;padding:10px;justify-content:end;' href='https://deepnote.com?utm_source=created-in-deepnote-cell&projectId=be56aa27-46c7-4ffd-9427-be78784c6843' target=\"_blank\">\n",
    "<img alt='Created in deepnote.com' style='display:inline;max-height:16px;margin:0px;margin-right:7.5px;' src='data:image/svg+xml;base64,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' > </img>\n",
    "Created in <span style='font-weight:600;margin-left:4px;'>Deepnote</span></a>"
   ]
  }
 ],
 "metadata": {
  "deepnote": {},
  "deepnote_execution_queue": [],
  "deepnote_notebook_id": "368c2678-d68e-4da0-860c-b4194f3bf82a",
  "kernelspec": {
   "display_name": "Python 3",
   "language": "python",
   "name": "python3"
  },
  "language_info": {
   "codemirror_mode": {
    "name": "ipython",
    "version": 3
   },
   "file_extension": ".py",
   "mimetype": "text/x-python",
   "name": "python",
   "nbconvert_exporter": "python",
   "pygments_lexer": "ipython3",
   "version": "3.8.8"
  }
 },
 "nbformat": 4,
 "nbformat_minor": 2
}
